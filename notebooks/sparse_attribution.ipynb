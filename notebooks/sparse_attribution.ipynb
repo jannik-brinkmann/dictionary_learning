{
 "cells": [
  {
   "cell_type": "code",
   "execution_count": 2,
   "metadata": {},
   "outputs": [
    {
     "name": "stderr",
     "output_type": "stream",
     "text": [
      "/root/dictionary_learning/circuits/lib/python3.11/site-packages/tqdm/auto.py:21: TqdmWarning: IProgress not found. Please update jupyter and ipywidgets. See https://ipywidgets.readthedocs.io/en/stable/user_install.html\n",
      "  from .autonotebook import tqdm as notebook_tqdm\n",
      "/root/dictionary_learning/circuits/lib/python3.11/site-packages/transformers/tokenization_utils_base.py:1601: FutureWarning: `clean_up_tokenization_spaces` was not set. It will be set to `True` by default. This behavior will be depracted in transformers v4.45, and will be then set to `False` by default. For more details check this issue: https://github.com/huggingface/transformers/issues/31884\n",
      "  warnings.warn(\n"
     ]
    }
   ],
   "source": [
    "from notebook_utils import load_tinymodel, load_tinydataset, load_saes\n",
    "import torch\n",
    "device = torch.device(\"cuda\" if torch.cuda.is_available() else \"cpu\")"
   ]
  },
  {
   "cell_type": "code",
   "execution_count": 3,
   "metadata": {},
   "outputs": [
    {
     "name": "stderr",
     "output_type": "stream",
     "text": [
      "100%|██████████| 10000/10000 [00:18<00:00, 543.71it/s]\n"
     ]
    },
    {
     "name": "stdout",
     "output_type": "stream",
     "text": [
      "Failed to tokenize 0 tokens\n",
      "Number of datapoints w/ 129 tokens: 9473\n",
      "Total Tokens: 1.222017M\n"
     ]
    },
    {
     "name": "stderr",
     "output_type": "stream",
     "text": [
      "/root/dictionary_learning/notebooks/notebook_utils.py:100: FutureWarning: You are using `torch.load` with `weights_only=False` (the current default value), which uses the default pickle module implicitly. It is possible to construct malicious pickle data which will execute arbitrary code during unpickling (See https://github.com/pytorch/pytorch/blob/main/SECURITY.md#untrusted-models for more details). In a future release, the default value for `weights_only` will be flipped to `True`. This limits the functions that could be executed during unpickling. Arbitrary objects will no longer be allowed to be loaded via this mode unless they are explicitly allowlisted by the user via `torch.serialization.add_safe_globals`. We recommend you start setting `weights_only=True` for any use case where you don't have full control of the loaded file. Please open an issue on GitHub for any issues related to this experimental feature.\n",
      "  state_dict = torch.load(path)\n"
     ]
    }
   ],
   "source": [
    "llm = load_tinymodel()\n",
    "dataset = load_tinydataset(batch_size=1, max_seq_length=128, num_datapoints=10000, to_dataloader=False)\n",
    "all_saes = load_saes(k=30)"
   ]
  },
  {
   "cell_type": "markdown",
   "metadata": {},
   "source": [
    "# Gradient but only on each batch, no accumulation\n",
    "Accumulating gradients over batches != gradient over a large batch\n",
    "We also can't backpropogate through the computation graph over the accumulated normalized sum because the computation graph doesn't exist, lol. \n",
    "\n",
    "There still might be a way to calculate gradient correctly (w/ a custom grad-function), but I'm intentionally making that out of scope.\n"
   ]
  },
  {
   "cell_type": "code",
   "execution_count": 4,
   "metadata": {},
   "outputs": [
    {
     "name": "stderr",
     "output_type": "stream",
     "text": [
      " 10%|█         | 1/10 [00:01<00:15,  1.71s/it]"
     ]
    },
    {
     "name": "stdout",
     "output_type": "stream",
     "text": [
      "num tokens: 129 | Entropy: 2.9938015937805176\n"
     ]
    },
    {
     "name": "stderr",
     "output_type": "stream",
     "text": [
      " 20%|██        | 2/10 [00:05<00:23,  2.88s/it]"
     ]
    },
    {
     "name": "stdout",
     "output_type": "stream",
     "text": [
      "num tokens: 6579 | Entropy: 4.113683223724365\n"
     ]
    },
    {
     "name": "stderr",
     "output_type": "stream",
     "text": [
      " 30%|███       | 3/10 [00:12<00:32,  4.63s/it]"
     ]
    },
    {
     "name": "stdout",
     "output_type": "stream",
     "text": [
      "num tokens: 13029 | Entropy: 4.339517593383789\n"
     ]
    },
    {
     "name": "stderr",
     "output_type": "stream",
     "text": [
      " 40%|████      | 4/10 [00:20<00:36,  6.00s/it]"
     ]
    },
    {
     "name": "stdout",
     "output_type": "stream",
     "text": [
      "num tokens: 19479 | Entropy: 4.4546613693237305\n"
     ]
    },
    {
     "name": "stderr",
     "output_type": "stream",
     "text": [
      " 50%|█████     | 5/10 [00:30<00:37,  7.46s/it]"
     ]
    },
    {
     "name": "stdout",
     "output_type": "stream",
     "text": [
      "num tokens: 25929 | Entropy: 4.523906707763672\n"
     ]
    },
    {
     "name": "stderr",
     "output_type": "stream",
     "text": [
      " 60%|██████    | 6/10 [00:42<00:35,  8.94s/it]"
     ]
    },
    {
     "name": "stdout",
     "output_type": "stream",
     "text": [
      "num tokens: 32379 | Entropy: 4.573797702789307\n"
     ]
    },
    {
     "name": "stderr",
     "output_type": "stream",
     "text": [
      " 70%|███████   | 7/10 [00:54<00:30, 10.13s/it]"
     ]
    },
    {
     "name": "stdout",
     "output_type": "stream",
     "text": [
      "num tokens: 38829 | Entropy: 4.61957311630249\n"
     ]
    },
    {
     "name": "stderr",
     "output_type": "stream",
     "text": [
      " 80%|████████  | 8/10 [01:09<00:23, 11.77s/it]"
     ]
    },
    {
     "name": "stdout",
     "output_type": "stream",
     "text": [
      "num tokens: 45279 | Entropy: 4.641940116882324\n"
     ]
    },
    {
     "name": "stderr",
     "output_type": "stream",
     "text": [
      " 90%|█████████ | 9/10 [01:26<00:13, 13.31s/it]"
     ]
    },
    {
     "name": "stdout",
     "output_type": "stream",
     "text": [
      "num tokens: 51729 | Entropy: 4.663559436798096\n"
     ]
    },
    {
     "name": "stderr",
     "output_type": "stream",
     "text": [
      "100%|██████████| 10/10 [01:45<00:00, 10.56s/it]"
     ]
    },
    {
     "name": "stdout",
     "output_type": "stream",
     "text": [
      "num tokens: 58179 | Entropy: 4.681214809417725\n"
     ]
    },
    {
     "name": "stderr",
     "output_type": "stream",
     "text": [
      "\n"
     ]
    }
   ],
   "source": [
    "from einops import rearrange, einsum\n",
    "from tqdm import tqdm\n",
    "from torch.utils.data import DataLoader\n",
    "\n",
    "target_sae_names = ['torso_1_mlp_out_transcoder', 'torso_1_res_final']\n",
    "saes = [all_saes[name].to(device) for name in target_sae_names]\n",
    "num_input_features = saes[0].encoder.weight.shape[0]\n",
    "num_output_features = saes[1].encoder.weight.shape[0]\n",
    "\n",
    "\n",
    "resid_mid = llm.torso[1].res_mlp\n",
    "resid_final = llm.torso[1].res_final\n",
    "mlp_out = llm.torso[1].mlp\n",
    "\n",
    "entropy_across_batches = []\n",
    "transcoder = saes[0].to(device)\n",
    "sae_final = saes[1].to(device)\n",
    "\n",
    "tr_dec = transcoder.decoder.weight\n",
    "final_enc = sae_final.encoder.weight\n",
    "optimizer = torch.optim.Adam(list(transcoder.parameters()) + list(sae_final.parameters()), lr=1e-3)\n",
    "grads_t_dec = []\n",
    "grads_t_enc = []\n",
    "grads_f_enc = []\n",
    "current_dataset = None\n",
    "for batch_size in tqdm(range(0, 500, 50)):\n",
    "    optimizer.zero_grad()\n",
    "    loader = DataLoader(dataset, batch_size=batch_size+1, shuffle=True)\n",
    "    batch_dict = next(iter(loader))\n",
    "    batch = torch.stack(batch_dict[\"input_ids\"], dim=-1)\n",
    "    batch = batch.to(device)\n",
    "\n",
    "\n",
    "    with torch.no_grad(), llm.trace(batch) as tracr:\n",
    "        act_res_mid = resid_mid.output.save()\n",
    "        act_res_final = resid_final.output.save()\n",
    "        act_mlp_out = mlp_out.output.save()\n",
    "\n",
    "    # Get the input & output activations and indices\n",
    "    act_res_mid = act_res_mid.detach().to(device)\n",
    "    act_res_mid = rearrange(act_res_mid, 'b s d_model -> (b s) d_model')\n",
    "\n",
    "        # Forward pass through SAEs\n",
    "    with torch.set_grad_enabled(True):\n",
    "        feature_by_feature_attribution = torch.zeros(num_input_features, num_output_features).to(device)\n",
    "        running_total_for_each_feature = torch.zeros(num_output_features).to(device)\n",
    "        virtual_weights = transcoder.decoder.weight.T @ sae_final.encoder.weight.T\n",
    "\n",
    "        input_features, input_acts, input_indices = transcoder.encode(act_res_mid, return_topk=True)\n",
    "    \n",
    "        mlp_out_hat = transcoder.decoder(input_features)\n",
    "\n",
    "        output_features, output_acts, output_indices = sae_final.encode(mlp_out_hat + act_res_mid, return_topk=True)\n",
    "        \n",
    "        # Compute attribution for each input-output pair\n",
    "        in_idx = input_indices[:, :, None]    # Shape: [batch, k, 1]\n",
    "        out_idx = output_indices[:, None, :]  # Shape: [batch, 1, k]\n",
    "        result = virtual_weights[in_idx, out_idx]  # Shape: [batch, k, k]\n",
    "        attribution = einsum(input_acts, result,'b k_inp, b k_inp k_out-> b k_inp k_out')\n",
    "\n",
    "        # Initialize full feature matrix\n",
    "        full_attribution = torch.zeros(virtual_weights.shape, device=attribution.device)\n",
    "\n",
    "        # Accumulate attributions for each input-output pair\n",
    "        full_attribution.index_put_(\n",
    "            (in_idx.expand(-1, -1, attribution.shape[-1]).reshape(-1),\n",
    "            out_idx.expand(-1, attribution.shape[1], -1).reshape(-1)),\n",
    "            attribution.reshape(-1),\n",
    "            accumulate=True\n",
    "        )\n",
    "        # Count occurrences of each output index\n",
    "        counts = torch.zeros(virtual_weights.shape[1], device=output_indices.device)\n",
    "        counts.index_add_(0, output_indices.reshape(-1), \n",
    "                        torch.ones_like(output_indices.reshape(-1), dtype=torch.float))\n",
    "        pre_clamp_counts = counts.clone()\n",
    "\n",
    "        # Avoid divide by zero \n",
    "        counts = counts.clamp(min=1)\n",
    "\n",
    "        # Divide output_features by how many times they appear\n",
    "        full_attribution = full_attribution / counts[None, :]\n",
    "\n",
    "        EPS = 1e-10\n",
    "        # Let's only calculate loss over non-zero output features\n",
    "        alive_output_features = pre_clamp_counts != 0\n",
    "        pos_avg =  full_attribution[:, alive_output_features].abs()\n",
    "        normed = pos_avg / (pos_avg.sum(dim=0, keepdim=True))\n",
    "        # Add small epsilon just to logs, maintains sum-to-1 property\n",
    "        logged = torch.log(torch.clamp(normed, min=EPS))\n",
    "        entropy_loss = -(normed * logged).sum(dim=0).mean()\n",
    "\n",
    "        entropy_loss.backward()\n",
    "        print(f\"num tokens: {batch.shape[0]*batch.shape[1]} | Entropy: {entropy_loss.item()}\")\n",
    "        # print(f\"\")\n",
    "        \n",
    "        # Store gradients\n",
    "        grads_t_dec.append(transcoder.decoder.weight.grad.clone().cpu())\n",
    "        grads_t_enc.append(transcoder.encoder.weight.grad.clone().cpu())\n",
    "        grads_f_enc.append(sae_final.encoder.weight.grad.clone().cpu())\n",
    "        \n",
    "        # Optional: check for NaNs\n",
    "        if any(torch.isnan(grad).any() for grad in [grads_t_dec[-1], grads_t_enc[-1], grads_f_enc[-1]]):\n",
    "            print(\"NaN detected in gradients\")"
   ]
  },
  {
   "cell_type": "code",
   "execution_count": 5,
   "metadata": {},
   "outputs": [
    {
     "name": "stderr",
     "output_type": "stream",
     "text": [
      "100%|██████████| 10/10 [00:05<00:00,  2.00it/s]\n"
     ]
    },
    {
     "data": {
      "image/png": "[encoded data removed]",
      "text/plain": [
       "<Figure size 640x480 with 2 Axes>"
      ]
     },
     "metadata": {},
     "output_type": "display_data"
    }
   ],
   "source": [
    "# Compare the L2 MSE error between the gradients in an imshow matrix image\n",
    "import matplotlib.pyplot as plt\n",
    "import numpy as np\n",
    "\n",
    "def gradient_similarity(g1, g2):\n",
    "    # g1, g2 are rectangular matrices of same shape\n",
    "    # Flatten matrices into 1D vectors\n",
    "    g1_flat = g1.reshape(-1)  # or g1.flatten()\n",
    "    g2_flat = g2.reshape(-1)\n",
    "\n",
    "    # Compute cosine similarity\n",
    "    similarity = (g1_flat @ g2_flat) / (np.linalg.norm(g1_flat) * np.linalg.norm(g2_flat))\n",
    "    return similarity\n",
    "setting = \"t_dec\"\n",
    "# setting = \"t_enc\"\n",
    "# setting = \"f_enc\"\n",
    "if setting == \"t_dec\":\n",
    "    target_grads = torch.stack(grads_t_dec)\n",
    "    title = \"Transcoder Decoder\"\n",
    "elif setting == \"t_enc\":\n",
    "    target_grads = torch.stack(grads_t_enc)\n",
    "    title = \"Transcoder Encoder\"\n",
    "elif setting == \"f_enc\":\n",
    "    target_grads = torch.stack(grads_f_enc)\n",
    "    title = \"Final Encoder\"\n",
    "\n",
    "# Calculate the L2 MSE error between the gradients\n",
    "l2_mse_error = torch.zeros(target_grads.shape[0], target_grads.shape[0])\n",
    "for i in tqdm(range(target_grads.shape[0])):\n",
    "    for j in range(target_grads.shape[0]):\n",
    "        # l2_mse_error[i, j] = torch.nn.functional.mse_loss(target_grads[i], target_grads[j])\n",
    "        l2_mse_error[i, j] = gradient_similarity(target_grads[i], target_grads[j])\n",
    "\n",
    "plt.imshow(l2_mse_error)\n",
    "plt.title(\"Cos Sim of Grads: \"+title)\n",
    "plt.colorbar()\n",
    "plt.show()"
   ]
  },
  {
   "cell_type": "markdown",
   "metadata": {},
   "source": [
    "# Just calculate Entropy TODO: unfinished. Need to make more efficient like above"
   ]
  },
  {
   "cell_type": "code",
   "execution_count": 14,
   "metadata": {},
   "outputs": [
    {
     "ename": "NameError",
     "evalue": "name 'all_saes' is not defined",
     "output_type": "error",
     "traceback": [
      "\u001b[0;31m---------------------------------------------------------------------------\u001b[0m",
      "\u001b[0;31mNameError\u001b[0m                                 Traceback (most recent call last)",
      "Cell \u001b[0;32mIn[14], line 22\u001b[0m\n\u001b[1;32m      4\u001b[0m \u001b[38;5;66;03m# def update_running_average_with_sum(current_avg, new_sum, current_count, new_count):\u001b[39;00m\n\u001b[1;32m      5\u001b[0m \u001b[38;5;66;03m#     \"\"\"\u001b[39;00m\n\u001b[1;32m      6\u001b[0m \u001b[38;5;66;03m#     Update the running average with a new sum and count.\u001b[39;00m\n\u001b[0;32m   (...)\u001b[0m\n\u001b[1;32m     19\u001b[0m \u001b[38;5;66;03m#     updated_avg = updated_sum / total_count\u001b[39;00m\n\u001b[1;32m     20\u001b[0m \u001b[38;5;66;03m#     return updated_avg, total_count\u001b[39;00m\n\u001b[1;32m     21\u001b[0m target_sae_names \u001b[38;5;241m=\u001b[39m [\u001b[38;5;124m'\u001b[39m\u001b[38;5;124mtorso_1_mlp_out_transcoder\u001b[39m\u001b[38;5;124m'\u001b[39m, \u001b[38;5;124m'\u001b[39m\u001b[38;5;124mtorso_1_res_final\u001b[39m\u001b[38;5;124m'\u001b[39m]\n\u001b[0;32m---> 22\u001b[0m saes \u001b[38;5;241m=\u001b[39m \u001b[43m[\u001b[49m\u001b[43mall_saes\u001b[49m\u001b[43m[\u001b[49m\u001b[43mname\u001b[49m\u001b[43m]\u001b[49m\u001b[38;5;241;43m.\u001b[39;49m\u001b[43mto\u001b[49m\u001b[43m(\u001b[49m\u001b[43mdevice\u001b[49m\u001b[43m)\u001b[49m\u001b[43m \u001b[49m\u001b[38;5;28;43;01mfor\u001b[39;49;00m\u001b[43m \u001b[49m\u001b[43mname\u001b[49m\u001b[43m \u001b[49m\u001b[38;5;129;43;01min\u001b[39;49;00m\u001b[43m \u001b[49m\u001b[43mtarget_sae_names\u001b[49m\u001b[43m]\u001b[49m\n\u001b[1;32m     23\u001b[0m num_input_features \u001b[38;5;241m=\u001b[39m saes[\u001b[38;5;241m0\u001b[39m]\u001b[38;5;241m.\u001b[39mencoder\u001b[38;5;241m.\u001b[39mweight\u001b[38;5;241m.\u001b[39mshape[\u001b[38;5;241m0\u001b[39m]\n\u001b[1;32m     24\u001b[0m num_output_features \u001b[38;5;241m=\u001b[39m saes[\u001b[38;5;241m1\u001b[39m]\u001b[38;5;241m.\u001b[39mencoder\u001b[38;5;241m.\u001b[39mweight\u001b[38;5;241m.\u001b[39mshape[\u001b[38;5;241m0\u001b[39m]\n",
      "Cell \u001b[0;32mIn[14], line 22\u001b[0m, in \u001b[0;36m<listcomp>\u001b[0;34m(.0)\u001b[0m\n\u001b[1;32m      4\u001b[0m \u001b[38;5;66;03m# def update_running_average_with_sum(current_avg, new_sum, current_count, new_count):\u001b[39;00m\n\u001b[1;32m      5\u001b[0m \u001b[38;5;66;03m#     \"\"\"\u001b[39;00m\n\u001b[1;32m      6\u001b[0m \u001b[38;5;66;03m#     Update the running average with a new sum and count.\u001b[39;00m\n\u001b[0;32m   (...)\u001b[0m\n\u001b[1;32m     19\u001b[0m \u001b[38;5;66;03m#     updated_avg = updated_sum / total_count\u001b[39;00m\n\u001b[1;32m     20\u001b[0m \u001b[38;5;66;03m#     return updated_avg, total_count\u001b[39;00m\n\u001b[1;32m     21\u001b[0m target_sae_names \u001b[38;5;241m=\u001b[39m [\u001b[38;5;124m'\u001b[39m\u001b[38;5;124mtorso_1_mlp_out_transcoder\u001b[39m\u001b[38;5;124m'\u001b[39m, \u001b[38;5;124m'\u001b[39m\u001b[38;5;124mtorso_1_res_final\u001b[39m\u001b[38;5;124m'\u001b[39m]\n\u001b[0;32m---> 22\u001b[0m saes \u001b[38;5;241m=\u001b[39m [\u001b[43mall_saes\u001b[49m[name]\u001b[38;5;241m.\u001b[39mto(device) \u001b[38;5;28;01mfor\u001b[39;00m name \u001b[38;5;129;01min\u001b[39;00m target_sae_names]\n\u001b[1;32m     23\u001b[0m num_input_features \u001b[38;5;241m=\u001b[39m saes[\u001b[38;5;241m0\u001b[39m]\u001b[38;5;241m.\u001b[39mencoder\u001b[38;5;241m.\u001b[39mweight\u001b[38;5;241m.\u001b[39mshape[\u001b[38;5;241m0\u001b[39m]\n\u001b[1;32m     24\u001b[0m num_output_features \u001b[38;5;241m=\u001b[39m saes[\u001b[38;5;241m1\u001b[39m]\u001b[38;5;241m.\u001b[39mencoder\u001b[38;5;241m.\u001b[39mweight\u001b[38;5;241m.\u001b[39mshape[\u001b[38;5;241m0\u001b[39m]\n",
      "\u001b[0;31mNameError\u001b[0m: name 'all_saes' is not defined"
     ]
    }
   ],
   "source": [
    "from einops import rearrange, einsum\n",
    "from tqdm import tqdm\n",
    "\n",
    "# def update_running_average_with_sum(current_avg, new_sum, current_count, new_count):\n",
    "#     \"\"\"\n",
    "#     Update the running average with a new sum and count.\n",
    "    \n",
    "#     :param current_avg: Current running average\n",
    "#     :param new_sum: Sum of new values to include in the average\n",
    "#     :param current_count: Number of values in the current average\n",
    "#     :param new_count: Number of new values\n",
    "#     :return: New running average, Updated total count\n",
    "#     \"\"\"\n",
    "#     if current_count == 0:\n",
    "#         return new_sum / new_count, new_count\n",
    "    \n",
    "#     total_count = current_count + new_count\n",
    "#     updated_sum = current_avg * current_count + new_sum\n",
    "#     updated_avg = updated_sum / total_count\n",
    "#     return updated_avg, total_count\n",
    "target_sae_names = ['torso_1_mlp_out_transcoder', 'torso_1_res_final']\n",
    "saes = [all_saes[name].to(device) for name in target_sae_names]\n",
    "num_input_features = saes[0].encoder.weight.shape[0]\n",
    "num_output_features = saes[1].encoder.weight.shape[0]\n",
    "feature_by_feature_attribution = torch.zeros(num_input_features, num_output_features).to(device)\n",
    "running_total_for_each_feature = torch.zeros(num_output_features).to(device)\n",
    "\n",
    "resid_mid = llm.torso[1].res_mlp\n",
    "resid_final = llm.torso[1].res_final\n",
    "mlp_out = llm.torso[1].mlp\n",
    "# for batch_ind, batch in enumerate(dataset):\n",
    "# add tqdm to enumerate correctly\n",
    "#\n",
    "entropy_across_batches = []\n",
    "# Now we want to run through the saes\n",
    "transcoder = saes[0].to(device)\n",
    "sae_final = saes[1].to(device)\n",
    "\n",
    "# Virtual weights = upstream_decoder @ downstream_encoder [feature, feature]\n",
    "tr_dec = transcoder.decoder.weight\n",
    "final_enc = sae_final.encoder.weight\n",
    "virtual_weights = tr_dec.T @ final_enc.T\n",
    "# Set an optimizer on both dec and enc\n",
    "grads_t_dec = []\n",
    "grads_t_enc = []\n",
    "grads_f_enc = []\n",
    "check_grads_every_N = 1\n",
    "with torch.no_grad():\n",
    "    for batch_ind, batch in enumerate(tqdm(dataset)):\n",
    "    \n",
    "\n",
    "        batch = batch.to(device)\n",
    "        with torch.no_grad(), llm.trace(batch) as tracr:\n",
    "            act_res_mid = resid_mid.output.save()\n",
    "            act_res_final = resid_final.output.save()\n",
    "            act_mlp_out = mlp_out.output.save()\n",
    "\n",
    "        # Get the input & output activations and indices\n",
    "        act_res_mid = act_res_mid.to(device)\n",
    "        act_res_mid = rearrange(act_res_mid, 'b s d_model -> (b s) d_model')\n",
    "        input_features, input_acts, input_indices = transcoder.encode(act_res_mid, return_topk=True)\n",
    "        mlp_out_hat = transcoder.decoder(input_features)\n",
    "\n",
    "        output_features, output_acts, output_indices = sae_final.encode(mlp_out_hat + act_res_mid, return_topk=True)\n",
    "        \n",
    "        new_f_by_f = torch.zeros_like(feature_by_feature_attribution)\n",
    "        for current_output_feature in range(num_output_features):\n",
    "            # Get the batch indices where the output feature is non-zero\n",
    "            # output_indices is [batch, k], so find where k is the current output feature\n",
    "            # sum over feature/k dim, which is at most 1, since a feature can only be activated once/datapoint\n",
    "            nz_batch_indices = (output_indices==current_output_feature).sum(-1).nonzero()[:, 0]\n",
    "            current_output_virtual_weights = virtual_weights[:, current_output_feature]\n",
    "\n",
    "            # TODO: concern that I'm not adding nz_input_ind into the right slots (it's [batch, k] w/ different values for k which define different index)\n",
    "            # Index into the virtual weights & input indices ie find the inputs that activated the output feature\n",
    "            nz_input_ind = input_indices[nz_batch_indices]\n",
    "            batched_virtual_weights = current_output_virtual_weights[nz_input_ind].to(device)\n",
    "            nz_input_acts = input_acts[nz_batch_indices]\n",
    "\n",
    "            # Calculate the attribution ie act*gradient\n",
    "            current_output_attribution = nz_input_acts * batched_virtual_weights \n",
    "\n",
    "            # The new count is the number of non-zero batch indices for this feature\n",
    "            # We need this to update the average; whether or not the current output feature activates on 1 datapoint or\n",
    "            # 100 datapoints in this batch will affect the avg.\n",
    "            new_count = len(nz_batch_indices)\n",
    "\n",
    "            # Update the total attribution, we'll divide by the total count later\n",
    "            # Do scatter add to account for duplicated indices (commented out code just gets last value, not summed)\n",
    "            feature_by_feature_attribution[:, current_output_feature].scatter_add_(\n",
    "                0, \n",
    "                nz_input_ind.flatten(),\n",
    "                current_output_attribution.flatten(),\n",
    "            )\n",
    "            # feature_by_feature_attribution[nz_input_ind, current_output_feature] += current_output_attribution\n",
    "            running_total_for_each_feature[current_output_feature] += new_count\n",
    "        if(batch_ind % check_grads_every_N == 0):\n",
    "            # Now we want to divide feature_by_feature_attribution by each of the times it activated\n",
    "            alive_output_features = running_total_for_each_feature != 0\n",
    "\n",
    "            averaged_feature_by_feature_attribution = feature_by_feature_attribution[:, alive_output_features] / running_total_for_each_feature[None, alive_output_features]\n",
    "            # Now we want to convert to a prob-dist and calculate entropy on it, ignoring dead features\n",
    "            normed_feature_by_feature_attribution = averaged_feature_by_feature_attribution / averaged_feature_by_feature_attribution.abs().sum(dim=0)\n",
    "\n",
    "            logged = normed_feature_by_feature_attribution.abs().log()\n",
    "            logged[logged.isinf()] = 0\n",
    "            entropy = -(normed_feature_by_feature_attribution.abs() * logged).sum(dim=0)\n",
    "            entropy_loss = entropy.mean()\n",
    "            entropy_across_batches.append(entropy_loss.item())\n",
    "            print(f\"Entropy: {entropy_loss.item()}\")"
   ]
  },
  {
   "cell_type": "markdown",
   "metadata": {},
   "source": [
    "# Now Sparse Attribution but w/ Gradients\n",
    "We need to make it differentiable (ie abs to smooth abs)"
   ]
  },
  {
   "cell_type": "code",
   "execution_count": 20,
   "metadata": {},
   "outputs": [
    {
     "name": "stderr",
     "output_type": "stream",
     "text": [
      "  0%|          | 0/297 [00:00<?, ?it/s]"
     ]
    },
    {
     "name": "stdout",
     "output_type": "stream",
     "text": [
      "Entropy: 3.929481029510498\n"
     ]
    },
    {
     "name": "stderr",
     "output_type": "stream",
     "text": [
      "  0%|          | 0/297 [00:31<?, ?it/s]"
     ]
    },
    {
     "name": "stdout",
     "output_type": "stream",
     "text": [
      "dec\n",
      "tensor([[nan, nan, nan,  ..., nan, nan, 0.],\n",
      "        [nan, nan, nan,  ..., nan, nan, 0.],\n",
      "        [nan, nan, nan,  ..., nan, nan, 0.],\n",
      "        ...,\n",
      "        [nan, nan, nan,  ..., nan, nan, 0.],\n",
      "        [nan, nan, nan,  ..., nan, nan, 0.],\n",
      "        [nan, nan, nan,  ..., nan, nan, 0.]], device='cuda:0')\n",
      "enc\n",
      "tensor([[nan, nan, nan,  ..., nan, nan, nan],\n",
      "        [nan, nan, nan,  ..., nan, nan, nan],\n",
      "        [nan, nan, nan,  ..., nan, nan, nan],\n",
      "        ...,\n",
      "        [nan, nan, nan,  ..., nan, nan, nan],\n",
      "        [nan, nan, nan,  ..., nan, nan, nan],\n",
      "        [0., 0., 0.,  ..., 0., 0., 0.]], device='cuda:0')\n",
      "f_enc\n",
      "tensor([[nan, nan, nan,  ..., nan, nan, nan],\n",
      "        [nan, nan, nan,  ..., nan, nan, nan],\n",
      "        [nan, nan, nan,  ..., nan, nan, nan],\n",
      "        ...,\n",
      "        [nan, nan, nan,  ..., nan, nan, nan],\n",
      "        [nan, nan, nan,  ..., nan, nan, nan],\n",
      "        [nan, nan, nan,  ..., nan, nan, nan]], device='cuda:0')\n"
     ]
    },
    {
     "name": "stderr",
     "output_type": "stream",
     "text": [
      "\n"
     ]
    }
   ],
   "source": [
    "from einops import rearrange, einsum\n",
    "from tqdm import tqdm\n",
    "\n",
    "# def update_running_average_with_sum(current_avg, new_sum, current_count, new_count):\n",
    "#     \"\"\"\n",
    "#     Update the running average with a new sum and count.\n",
    "    \n",
    "#     :param current_avg: Current running average\n",
    "#     :param new_sum: Sum of new values to include in the average\n",
    "#     :param current_count: Number of values in the current average\n",
    "#     :param new_count: Number of new values\n",
    "#     :return: New running average, Updated total count\n",
    "#     \"\"\"\n",
    "#     if current_count == 0:\n",
    "#         return new_sum / new_count, new_count\n",
    "    \n",
    "#     total_count = current_count + new_count\n",
    "#     updated_sum = current_avg * current_count + new_sum\n",
    "#     updated_avg = updated_sum / total_count\n",
    "#     return updated_avg, total_count\n",
    "def smooth_abs(x, epsilon=1e-8):\n",
    "    # add a zero clamp\n",
    "    smoothed = torch.sqrt(x**2 )\n",
    "    return torch.clamp(smoothed, min=0)\n",
    "target_sae_names = ['torso_1_mlp_out_transcoder', 'torso_1_res_final']\n",
    "saes = [all_saes[name].to(device) for name in target_sae_names]\n",
    "num_input_features = saes[0].encoder.weight.shape[0]\n",
    "num_output_features = saes[1].encoder.weight.shape[0]\n",
    "feature_by_feature_attribution = torch.zeros(num_input_features, num_output_features).to(device)\n",
    "running_total_for_each_feature = torch.zeros(num_output_features).to(device)\n",
    "\n",
    "resid_mid = llm.torso[1].res_mlp\n",
    "resid_final = llm.torso[1].res_final\n",
    "mlp_out = llm.torso[1].mlp\n",
    "# for batch_ind, batch in enumerate(dataset):\n",
    "# add tqdm to enumerate correctly\n",
    "#\n",
    "entropy_across_batches = []\n",
    "# Now we want to run through the saes\n",
    "transcoder = saes[0].to(device)\n",
    "sae_final = saes[1].to(device)\n",
    "\n",
    "# Virtual weights = upstream_decoder @ downstream_encoder [feature, feature]\n",
    "tr_dec = transcoder.decoder.weight\n",
    "final_enc = sae_final.encoder.weight\n",
    "virtual_weights = tr_dec.T @ final_enc.T\n",
    "# Set an optimizer on both dec and enc\n",
    "optimizer = torch.optim.Adam([transcoder.decoder.weight, transcoder.encoder.weight, sae_final.encoder.weight], lr=1e-3)\n",
    "grads_t_dec = []\n",
    "grads_t_enc = []\n",
    "grads_f_enc = []\n",
    "# check_grads_every_N = 10\n",
    "check_grads_every_N = 1\n",
    "for batch_ind, batch in enumerate(tqdm(dataset)):\n",
    "    # if check_grads_every_N, then do with torch.no_grad()\n",
    "    # else, do with torch.enable_grad()\n",
    "    compute_grads = (batch_ind % check_grads_every_N == 0)\n",
    "    \n",
    "    # Use a single with statement\n",
    "    with torch.set_grad_enabled(compute_grads):\n",
    "\n",
    "        optimizer.zero_grad()\n",
    "\n",
    "        batch = batch.to(device)\n",
    "        with torch.no_grad(), llm.trace(batch) as tracr:\n",
    "            act_res_mid = resid_mid.output.save()\n",
    "            act_res_final = resid_final.output.save()\n",
    "            act_mlp_out = mlp_out.output.save()\n",
    "\n",
    "        # Get the input & output activations and indices\n",
    "        act_res_mid = act_res_mid.to(device)\n",
    "        act_res_mid = rearrange(act_res_mid, 'b s d_model -> (b s) d_model')\n",
    "        input_features, input_acts, input_indices = transcoder.encode(act_res_mid, return_topk=True)\n",
    "        mlp_out_hat = transcoder.decoder(input_features)\n",
    "\n",
    "        output_features, output_acts, output_indices = sae_final.encode(mlp_out_hat + act_res_mid, return_topk=True)\n",
    "        \n",
    "        new_f_by_f = torch.zeros_like(feature_by_feature_attribution)\n",
    "        for current_output_feature in range(num_output_features):\n",
    "            # Get the batch indices where the output feature is non-zero\n",
    "            # output_indices is [batch, k], so find where k is the current output feature\n",
    "            # sum over feature/k dim, which is at most 1, since a feature can only be activated once/datapoint\n",
    "            nz_batch_indices = (output_indices==current_output_feature).sum(-1).nonzero()[:, 0]\n",
    "            current_output_virtual_weights = virtual_weights[:, current_output_feature]\n",
    "\n",
    "            # TODO: concern that I'm not adding nz_input_ind into the right slots (it's [batch, k] w/ different values for k which define different index)\n",
    "            # Index into the virtual weights & input indices ie find the inputs that activated the output feature\n",
    "            nz_input_ind = input_indices[nz_batch_indices]\n",
    "            batched_virtual_weights = current_output_virtual_weights[nz_input_ind].to(device)\n",
    "            nz_input_acts = input_acts[nz_batch_indices]\n",
    "\n",
    "            # Calculate the attribution ie act*gradient\n",
    "            current_output_attribution = nz_input_acts * batched_virtual_weights \n",
    "\n",
    "            # The new count is the number of non-zero batch indices for this feature\n",
    "            # We need this to update the average; whether or not the current output feature activates on 1 datapoint or\n",
    "            # 100 datapoints in this batch will affect the avg.\n",
    "            new_count = len(nz_batch_indices)\n",
    "\n",
    "            # Update the total attribution, we'll divide by the total count later\n",
    "            # Do scatter add to account for duplicated indices (commented out code just gets last value, not summed)\n",
    "            feature_by_feature_attribution[:, current_output_feature].scatter_add_(\n",
    "                0, \n",
    "                nz_input_ind.flatten(),\n",
    "                current_output_attribution.flatten(),\n",
    "            )\n",
    "            # feature_by_feature_attribution[nz_input_ind, current_output_feature] += current_output_attribution\n",
    "            running_total_for_each_feature[current_output_feature] += new_count\n",
    "        if(batch_ind % check_grads_every_N == 0):\n",
    "            # Now we want to divide feature_by_feature_attribution by each of the times it activated\n",
    "            alive_output_features = running_total_for_each_feature != 0\n",
    "\n",
    "            averaged_feature_by_feature_attribution = feature_by_feature_attribution[:, alive_output_features] / running_total_for_each_feature[None, alive_output_features]\n",
    "            # Now we want to convert to a prob-dist and calculate entropy on it, ignoring dead features\n",
    "            not_smooth_normed_feature_by_feature_attribution = averaged_feature_by_feature_attribution / averaged_feature_by_feature_attribution.abs().sum(dim=0)\n",
    "            normed_feature_by_feature_attribution = averaged_feature_by_feature_attribution / smooth_abs(averaged_feature_by_feature_attribution).sum(dim=0)\n",
    "            \n",
    "            # normed_feature_by_feature_attribution = torch.nn.functional.softmax(averaged_feature_by_feature_attribution, dim=0)\n",
    "\n",
    "\n",
    "            logged = smooth_abs(normed_feature_by_feature_attribution).log()\n",
    "            not_smooth__logged = not_smooth_normed_feature_by_feature_attribution.abs().log()\n",
    "            logged[logged.isinf()] = 0\n",
    "            not_smooth__logged[not_smooth__logged.isinf()] = 0\n",
    "            entropy = -(smooth_abs(normed_feature_by_feature_attribution) * logged).sum(dim=0)\n",
    "            not_smooth_entropy = -(not_smooth_normed_feature_by_feature_attribution.abs() * not_smooth__logged).sum(dim=0)\n",
    "            # entropy = -(normed_feature_by_feature_attribution.abs() * logged).sum(dim=0)\n",
    "            entropy_loss = entropy.mean()\n",
    "            entropy_across_batches.append(entropy_loss.item())\n",
    "            print(f\"Entropy: {entropy_loss.item()}\")\n",
    "\n",
    "        #     # Get the gradient of the entropy loss\n",
    "            entropy_loss.backward()\n",
    "            # torch.nn.utils.clip_grad_norm_([transcoder.decoder.weight, transcoder.encoder.weight, sae_final.encoder.weight], max_norm=1.0)\n",
    "\n",
    "            # get the gradients\n",
    "            grad_t_dec = transcoder.decoder.weight.grad\n",
    "            grad_t_enc = transcoder.encoder.weight.grad\n",
    "            grad_f_enc = sae_final.encoder.weight.grad\n",
    "            grads_t_dec.append(grad_t_dec.cpu())\n",
    "            grads_t_enc.append(grad_t_enc.cpu())\n",
    "            grads_f_enc.append(grad_f_enc.cpu())\n",
    "            print(\"dec\")\n",
    "            print(grad_t_dec)\n",
    "            print(\"enc\")\n",
    "            print(grad_t_enc)\n",
    "            print(\"f_enc\")\n",
    "            print(grad_f_enc)\n",
    "        break\n",
    "\n",
    "\n",
    "            "
   ]
  },
  {
   "cell_type": "code",
   "execution_count": 13,
   "metadata": {},
   "outputs": [
    {
     "name": "stdout",
     "output_type": "stream",
     "text": [
      "Distribution: tensor([1., 0., 0., 0.])\n",
      "tensor([1., 0., 0., 0.])\n",
      "tensor([  0.0000, -23.0259, -23.0259, -23.0259])\n",
      "  Squared Error Entropy: 1.0000\n",
      "  Tanh Entropy: 0.2100\n",
      "  Cauchy Entropy: 0.6931\n",
      "  Softplus Entropy: 3.3927\n",
      "  Gaussian Entropy: -3.6065\n",
      "  sqrt_entropy: -0.0000\n",
      "  Sparsity Inducing Loss: 0.0000\n",
      "\n",
      "Distribution: tensor([-1.,  0.,  0.,  0.])\n",
      "tensor([1., 0., 0., 0.])\n",
      "tensor([  0.0000, -23.0259, -23.0259, -23.0259])\n",
      "  Squared Error Entropy: 1.0000\n",
      "  Tanh Entropy: 0.2100\n",
      "  Cauchy Entropy: 0.6931\n",
      "  Softplus Entropy: 2.3927\n",
      "  Gaussian Entropy: -3.6065\n",
      "  sqrt_entropy: -0.0000\n",
      "  Sparsity Inducing Loss: 0.0000\n",
      "\n",
      "Distribution: tensor([0.9900, 0.0100, 0.0000, 0.0000])\n",
      "tensor([0.9900, 0.0100, 0.0000, 0.0000])\n",
      "tensor([-1.0050e-02, -4.6052e+00, -2.3026e+01, -2.3026e+01])\n",
      "  Squared Error Entropy: 1.0000\n",
      "  Tanh Entropy: 0.2100\n",
      "  Cauchy Entropy: 0.6932\n",
      "  Softplus Entropy: 3.3977\n",
      "  Gaussian Entropy: -3.6065\n",
      "  sqrt_entropy: 0.0560\n",
      "  Sparsity Inducing Loss: 0.0101\n",
      "\n",
      "Distribution: tensor([ 0.5000, -0.5000,  0.0000,  0.0000])\n",
      "tensor([0.5000, 0.5000, 0.0000, 0.0000])\n",
      "tensor([ -0.6931,  -0.6931, -23.0259, -23.0259])\n",
      "  Squared Error Entropy: 1.0000\n",
      "  Tanh Entropy: 0.1293\n",
      "  Cauchy Entropy: 0.8109\n",
      "  Softplus Entropy: 2.8951\n",
      "  Gaussian Entropy: -3.5576\n",
      "  sqrt_entropy: 0.6931\n",
      "  Sparsity Inducing Loss: 0.6932\n",
      "\n",
      "Distribution: tensor([ 0.5000, -0.3000,  0.1000, -0.1000])\n",
      "tensor([0.5000, 0.3000, 0.1000, 0.1000])\n",
      "tensor([-0.6931, -1.2040, -2.3026, -2.3026])\n",
      "  Squared Error Entropy: 1.0000\n",
      "  Tanh Entropy: 0.1332\n",
      "  Cauchy Entropy: 0.8053\n",
      "  Softplus Entropy: 3.0615\n",
      "  Gaussian Entropy: -3.5616\n",
      "  sqrt_entropy: 1.1683\n",
      "  Sparsity Inducing Loss: 0.6931\n",
      "\n",
      "Distribution: tensor([ 0.5000, -0.1667,  0.1667, -0.1667])\n",
      "tensor([0.5000, 0.1667, 0.1667, 0.1667])\n",
      "tensor([-0.6932, -1.7917, -1.7917, -1.7917])\n",
      "  Squared Error Entropy: 1.0000\n",
      "  Tanh Entropy: 0.1371\n",
      "  Cauchy Entropy: 0.7997\n",
      "  Softplus Entropy: 3.1834\n",
      "  Gaussian Entropy: -3.5649\n",
      "  sqrt_entropy: 1.2425\n",
      "  Sparsity Inducing Loss: 0.6932\n",
      "\n",
      "Distribution: tensor([0.2500, 0.2500, 0.2500, 0.2500])\n",
      "tensor([0.2500, 0.2500, 0.2500, 0.2500])\n",
      "tensor([-1.3863, -1.3863, -1.3863, -1.3863])\n",
      "  Squared Error Entropy: 1.0000\n",
      "  Tanh Entropy: 0.0729\n",
      "  Cauchy Entropy: 0.8926\n",
      "  Softplus Entropy: 3.8963\n",
      "  Gaussian Entropy: -3.5300\n",
      "  sqrt_entropy: 1.3863\n",
      "  Sparsity Inducing Loss: 1.3863\n",
      "\n",
      "Distribution: tensor([4., 4., 4., 4.])\n",
      "tensor([0.2500, 0.2500, 0.2500, 0.2500])\n",
      "tensor([-1.3863, -1.3863, -1.3863, -1.3863])\n",
      "  Squared Error Entropy: 1.0000\n",
      "  Tanh Entropy: 0.0729\n",
      "  Cauchy Entropy: 0.8926\n",
      "  Softplus Entropy: 3.8963\n",
      "  Gaussian Entropy: -3.5300\n",
      "  sqrt_entropy: 1.3863\n",
      "  Sparsity Inducing Loss: 1.3863\n",
      "\n",
      "Squared Error Entropy gradients: tensor([-3.5763e-07,  3.5763e-07, -5.9605e-08,  5.9605e-08])\n",
      "Tanh Entropy gradients: tensor([ 0.0156, -0.0156, -0.0778,  0.0778])\n",
      "Cauchy Entropy gradients: tensor([-0.0226,  0.0226,  0.1131, -0.1131])\n",
      "Softplus Entropy gradients: tensor([0.6930, 0.6937, 0.6951, 0.6917])\n",
      "Gaussian Entropy gradients: tensor([-0.0075,  0.0075,  0.0377, -0.0377])\n",
      "tensor([0.4167, 0.4167, 0.0833, 0.0833], grad_fn=<DivBackward0>)\n",
      "tensor([-0.8755, -0.8755, -2.4849, -2.4849], grad_fn=<LogBackward0>)\n",
      "sqrt_entropy gradients: tensor([-0.2235,  0.2235,  1.1177, -1.1177])\n",
      "Sparsity Inducing Loss gradients: tensor([-0.1667,  0.1667,  0.8333, -0.8333])\n"
     ]
    }
   ],
   "source": [
    "import torch\n",
    "import torch.nn.functional as F\n",
    "\n",
    "def squared_error_entropy(x):\n",
    "    normalized = x / torch.sqrt((x**2).sum(dim=0, keepdim=True) + 1e-8)\n",
    "    return (normalized**2).sum(dim=0)\n",
    "\n",
    "def tanh_entropy(x, scale=1.0):\n",
    "    normalized = x / torch.sqrt((x**2).sum(dim=0, keepdim=True) + 1e-8)\n",
    "    return -((torch.tanh(scale * normalized)**2).sum(dim=0) - 1) / 2\n",
    "\n",
    "def cauchy_entropy(x, scale=1.0):\n",
    "    normalized = x / torch.sqrt((x**2).sum(dim=0, keepdim=True) + 1e-8)\n",
    "    return torch.log(1 + scale * normalized**2).sum(dim=0)\n",
    "\n",
    "def softplus_entropy(x, beta=1.0):\n",
    "    normalized = x / torch.sqrt((x**2).sum(dim=0, keepdim=True) + 1e-8)\n",
    "    return F.softplus(beta * normalized, beta=beta).sum(dim=0) / beta\n",
    "\n",
    "def gaussian_entropy(x, sigma=1.0):\n",
    "    normalized = x / torch.sqrt((x**2).sum(dim=0, keepdim=True) + 1e-8)\n",
    "    return -torch.exp(-normalized**2 / (2 * sigma**2)).sum(dim=0)\n",
    "\n",
    "def gaussian_entropy(x, sigma=1.0):\n",
    "    normalized = x / torch.sqrt((x**2).sum(dim=0, keepdim=True) + 1e-8)\n",
    "    return -torch.exp(-normalized**2 / (2 * sigma**2)).sum(dim=0)\n",
    "\n",
    "def smooth_absolute(x):\n",
    "    return torch.sqrt(x**2 + 1e-8)\n",
    "    \n",
    "\n",
    "def sqrt_entropy(x):\n",
    "    pos_x = torch.sqrt(x**2)\n",
    "    normalized = pos_x / (pos_x.sum(dim=0, keepdim=True) + 1e-8)\n",
    "    # normalized = x / x.abs().sum(dim=0, keepdim=True)\n",
    "    # logged = normalized.abs().log()\n",
    "    logged = torch.log(normalized + 1e-10)\n",
    "    print(normalized)\n",
    "    print(logged)\n",
    "    # logged[logged.isinf()] = 0\n",
    "    # return torch.sqrt(normalized.abs()).sum(dim=0)\n",
    "    return -(normalized * logged).sum(dim=0)\n",
    "\n",
    "import torch\n",
    "import torch.nn.functional as F\n",
    "\n",
    "# ... (keep your other entropy functions)\n",
    "\n",
    "def sparsity_inducing_loss(x):\n",
    "    pos_x = torch.sqrt(x**2 + 1e-10)\n",
    "    # pos_x = torch.sqrt(x**2)\n",
    "    normalized = pos_x / (pos_x.sum(dim=0, keepdim=True) + 1e-10)\n",
    "    # normalized = pos_x / (pos_x.sum(dim=0, keepdim=True))\n",
    "    # return -torch.log(normalized.max() + 1e-10) + torch.sum(normalized) -1\n",
    "    # return -torch.log(normalized.max() + 1e-10)\n",
    "    return -torch.log(normalized.max() + 1e-10)\n",
    "    # return -torch.log(normalized.max()) + torch.sum(normalized) -1\n",
    "\n",
    "def compare_metrics(x):\n",
    "    metrics = {\n",
    "        'Squared Error Entropy': squared_error_entropy(x),\n",
    "        'Tanh Entropy': tanh_entropy(x),\n",
    "        'Cauchy Entropy': cauchy_entropy(x),\n",
    "        'Softplus Entropy': softplus_entropy(x),\n",
    "        'Gaussian Entropy': gaussian_entropy(x),\n",
    "        'sqrt_entropy': sqrt_entropy(x),\n",
    "        'Sparsity Inducing Loss': sparsity_inducing_loss(x),\n",
    "    }\n",
    "    return metrics\n",
    "\n",
    "if __name__ == \"__main__\":\n",
    "    test_distributions = [\n",
    "        # torch.tensor([0.0, 0.0, 0.0, 0.0]),\n",
    "        # torch.tensor([5.0, 0.0, 0.0, 0.0]),\n",
    "        # torch.tensor([5.0, 0.5, 0.0, 0.0]),\n",
    "        # torch.tensor([1.0, 0.1, 0.0, 0.0]),\n",
    "        torch.tensor([1.0, 0.0, 0.0, 0.0]),\n",
    "        torch.tensor([-1.0, 0.0, 0.0, 0.0]),\n",
    "        torch.tensor([0.99, 0.01, 0.0, 0.0]),\n",
    "        torch.tensor([0.5, -0.5, 0.0, 0.0]),\n",
    "        torch.tensor([0.5, -0.3, 0.1, -0.1]),\n",
    "        torch.tensor([0.5, -0.16667, 0.16667, -0.16667]),\n",
    "        torch.tensor([0.25, 0.25, 0.25, 0.25]),\n",
    "        torch.tensor([4.0, 4.0, 4.0, 4.0]),\n",
    "    ]\n",
    "\n",
    "    for dist in test_distributions:\n",
    "        print(f\"Distribution: {dist}\")\n",
    "        for name, value in compare_metrics(dist).items():\n",
    "            print(f\"  {name}: {value.item():.4f}\")\n",
    "        print()\n",
    "\n",
    "    # Gradient check\n",
    "    x = torch.tensor([0.5, -0.5, 0.1, -0.1], requires_grad=True)\n",
    "    for name, func in [\n",
    "        ('Squared Error Entropy', squared_error_entropy),\n",
    "        ('Tanh Entropy', tanh_entropy),\n",
    "        ('Cauchy Entropy', cauchy_entropy),\n",
    "        ('Softplus Entropy', softplus_entropy),\n",
    "        ('Gaussian Entropy', gaussian_entropy),\n",
    "        ('sqrt_entropy', sqrt_entropy),\n",
    "        ('Sparsity Inducing Loss', sparsity_inducing_loss),\n",
    "    ]:\n",
    "        y = func(x)\n",
    "        try:\n",
    "            y.backward()\n",
    "            if torch.isnan(x.grad).any():\n",
    "                print(f\"{name} | NaN in gradients\")\n",
    "            print(f\"{name} gradients: {x.grad}\")\n",
    "            x.grad.zero_()\n",
    "        except Exception as e:\n",
    "            print(f\"{name}: Gradient computation failed - {str(e)}\")"
   ]
  },
  {
   "cell_type": "code",
   "execution_count": 147,
   "metadata": {},
   "outputs": [
    {
     "data": {
      "text/plain": [
       "tensor(5887, device='cuda:0')"
      ]
     },
     "execution_count": 147,
     "metadata": {},
     "output_type": "execute_result"
    }
   ],
   "source": [
    "N = 6\n",
    "(not_smooth_normed_feature_by_feature_attribution[:, N] == normed_feature_by_feature_attribution[:, N]).sum()"
   ]
  },
  {
   "cell_type": "code",
   "execution_count": 156,
   "metadata": {},
   "outputs": [
    {
     "data": {
      "image/png": "[encoded data removed]",
      "text/plain": [
       "<Figure size 640x480 with 1 Axes>"
      ]
     },
     "metadata": {},
     "output_type": "display_data"
    }
   ],
   "source": [
    "nz_ind = not_smooth_normed_feature_by_feature_attribution[:, N].nonzero()\n",
    "not_smooth_normed_feature_by_feature_attribution[nz_ind, N], normed_feature_by_feature_attribution[nz_ind, N]\n",
    "# Plot both, one as x and one as y\n",
    "import matplotlib.pyplot as plt\n",
    "plt.scatter(not_smooth_normed_feature_by_feature_attribution[nz_ind, N].detach().cpu(), normed_feature_by_feature_attribution[nz_ind, N].detach().cpu())\n",
    "# Draw a diagonal thin linear between the min and max of both\n",
    "min_val = not_smooth_normed_feature_by_feature_attribution[nz_ind, N].min().item()\n",
    "max_val = not_smooth_normed_feature_by_feature_attribution[nz_ind, N].max().item()\n",
    "plt.plot([min_val, max_val], [min_val, max_val], color='red')\n",
    "plt.xlabel(\"Not Smoothed\")\n",
    "plt.ylabel(\"Smoothed\")\n",
    "plt.show()"
   ]
  },
  {
   "cell_type": "code",
   "execution_count": 126,
   "metadata": {},
   "outputs": [
    {
     "data": {
      "text/plain": [
       "(tensor([6.7974, 1.0676, 2.3563,  ..., 2.2825, 0.9650, 0.0000], device='cuda:0',\n",
       "        grad_fn=<SumBackward1>),\n",
       " torch.Size([6144, 6107]),\n",
       " tensor(1.0000, device='cuda:0', grad_fn=<SumBackward0>))"
      ]
     },
     "execution_count": 126,
     "metadata": {},
     "output_type": "execute_result"
    }
   ],
   "source": [
    "normed = averaged_feature_by_feature_attribution / averaged_feature_by_feature_attribution.abs().sum(dim=0)\n",
    "normed.abs().sum(dim=1), normed.shape, normed.abs()[:, 0].sum()"
   ]
  },
  {
   "cell_type": "code",
   "execution_count": 107,
   "metadata": {},
   "outputs": [
    {
     "ename": "RuntimeError",
     "evalue": "Trying to backward through the graph a second time (or directly access saved tensors after they have already been freed). Saved intermediate values of the graph are freed when you call .backward() or autograd.grad(). Specify retain_graph=True if you need to backward through the graph a second time or if you need to access saved tensors after calling backward.",
     "output_type": "error",
     "traceback": [
      "\u001b[0;31m---------------------------------------------------------------------------\u001b[0m",
      "\u001b[0;31mRuntimeError\u001b[0m                              Traceback (most recent call last)",
      "Cell \u001b[0;32mIn[107], line 2\u001b[0m\n\u001b[1;32m      1\u001b[0m optimizer\u001b[38;5;241m.\u001b[39mzero_grad()\n\u001b[0;32m----> 2\u001b[0m \u001b[43mentropy_loss\u001b[49m\u001b[38;5;241;43m.\u001b[39;49m\u001b[43mbackward\u001b[49m\u001b[43m(\u001b[49m\u001b[43m)\u001b[49m\n\u001b[1;32m      3\u001b[0m torch\u001b[38;5;241m.\u001b[39mnn\u001b[38;5;241m.\u001b[39mutils\u001b[38;5;241m.\u001b[39mclip_grad_norm_([transcoder\u001b[38;5;241m.\u001b[39mdecoder\u001b[38;5;241m.\u001b[39mweight, transcoder\u001b[38;5;241m.\u001b[39mencoder\u001b[38;5;241m.\u001b[39mweight, sae_final\u001b[38;5;241m.\u001b[39mencoder\u001b[38;5;241m.\u001b[39mweight], max_norm\u001b[38;5;241m=\u001b[39m\u001b[38;5;241m1.0\u001b[39m)\n\u001b[1;32m      4\u001b[0m transcoder\u001b[38;5;241m.\u001b[39mdecoder\u001b[38;5;241m.\u001b[39mweight\u001b[38;5;241m.\u001b[39mgrad\n",
      "File \u001b[0;32m~/dictionary_learning/circuits/lib/python3.11/site-packages/torch/_tensor.py:581\u001b[0m, in \u001b[0;36mTensor.backward\u001b[0;34m(self, gradient, retain_graph, create_graph, inputs)\u001b[0m\n\u001b[1;32m    571\u001b[0m \u001b[38;5;28;01mif\u001b[39;00m has_torch_function_unary(\u001b[38;5;28mself\u001b[39m):\n\u001b[1;32m    572\u001b[0m     \u001b[38;5;28;01mreturn\u001b[39;00m handle_torch_function(\n\u001b[1;32m    573\u001b[0m         Tensor\u001b[38;5;241m.\u001b[39mbackward,\n\u001b[1;32m    574\u001b[0m         (\u001b[38;5;28mself\u001b[39m,),\n\u001b[0;32m   (...)\u001b[0m\n\u001b[1;32m    579\u001b[0m         inputs\u001b[38;5;241m=\u001b[39minputs,\n\u001b[1;32m    580\u001b[0m     )\n\u001b[0;32m--> 581\u001b[0m \u001b[43mtorch\u001b[49m\u001b[38;5;241;43m.\u001b[39;49m\u001b[43mautograd\u001b[49m\u001b[38;5;241;43m.\u001b[39;49m\u001b[43mbackward\u001b[49m\u001b[43m(\u001b[49m\n\u001b[1;32m    582\u001b[0m \u001b[43m    \u001b[49m\u001b[38;5;28;43mself\u001b[39;49m\u001b[43m,\u001b[49m\u001b[43m \u001b[49m\u001b[43mgradient\u001b[49m\u001b[43m,\u001b[49m\u001b[43m \u001b[49m\u001b[43mretain_graph\u001b[49m\u001b[43m,\u001b[49m\u001b[43m \u001b[49m\u001b[43mcreate_graph\u001b[49m\u001b[43m,\u001b[49m\u001b[43m \u001b[49m\u001b[43minputs\u001b[49m\u001b[38;5;241;43m=\u001b[39;49m\u001b[43minputs\u001b[49m\n\u001b[1;32m    583\u001b[0m \u001b[43m\u001b[49m\u001b[43m)\u001b[49m\n",
      "File \u001b[0;32m~/dictionary_learning/circuits/lib/python3.11/site-packages/torch/autograd/__init__.py:347\u001b[0m, in \u001b[0;36mbackward\u001b[0;34m(tensors, grad_tensors, retain_graph, create_graph, grad_variables, inputs)\u001b[0m\n\u001b[1;32m    342\u001b[0m     retain_graph \u001b[38;5;241m=\u001b[39m create_graph\n\u001b[1;32m    344\u001b[0m \u001b[38;5;66;03m# The reason we repeat the same comment below is that\u001b[39;00m\n\u001b[1;32m    345\u001b[0m \u001b[38;5;66;03m# some Python versions print out the first line of a multi-line function\u001b[39;00m\n\u001b[1;32m    346\u001b[0m \u001b[38;5;66;03m# calls in the traceback and some print out the last line\u001b[39;00m\n\u001b[0;32m--> 347\u001b[0m \u001b[43m_engine_run_backward\u001b[49m\u001b[43m(\u001b[49m\n\u001b[1;32m    348\u001b[0m \u001b[43m    \u001b[49m\u001b[43mtensors\u001b[49m\u001b[43m,\u001b[49m\n\u001b[1;32m    349\u001b[0m \u001b[43m    \u001b[49m\u001b[43mgrad_tensors_\u001b[49m\u001b[43m,\u001b[49m\n\u001b[1;32m    350\u001b[0m \u001b[43m    \u001b[49m\u001b[43mretain_graph\u001b[49m\u001b[43m,\u001b[49m\n\u001b[1;32m    351\u001b[0m \u001b[43m    \u001b[49m\u001b[43mcreate_graph\u001b[49m\u001b[43m,\u001b[49m\n\u001b[1;32m    352\u001b[0m \u001b[43m    \u001b[49m\u001b[43minputs\u001b[49m\u001b[43m,\u001b[49m\n\u001b[1;32m    353\u001b[0m \u001b[43m    \u001b[49m\u001b[43mallow_unreachable\u001b[49m\u001b[38;5;241;43m=\u001b[39;49m\u001b[38;5;28;43;01mTrue\u001b[39;49;00m\u001b[43m,\u001b[49m\n\u001b[1;32m    354\u001b[0m \u001b[43m    \u001b[49m\u001b[43maccumulate_grad\u001b[49m\u001b[38;5;241;43m=\u001b[39;49m\u001b[38;5;28;43;01mTrue\u001b[39;49;00m\u001b[43m,\u001b[49m\n\u001b[1;32m    355\u001b[0m \u001b[43m\u001b[49m\u001b[43m)\u001b[49m\n",
      "File \u001b[0;32m~/dictionary_learning/circuits/lib/python3.11/site-packages/torch/autograd/graph.py:825\u001b[0m, in \u001b[0;36m_engine_run_backward\u001b[0;34m(t_outputs, *args, **kwargs)\u001b[0m\n\u001b[1;32m    823\u001b[0m     unregister_hooks \u001b[38;5;241m=\u001b[39m _register_logging_hooks_on_whole_graph(t_outputs)\n\u001b[1;32m    824\u001b[0m \u001b[38;5;28;01mtry\u001b[39;00m:\n\u001b[0;32m--> 825\u001b[0m     \u001b[38;5;28;01mreturn\u001b[39;00m \u001b[43mVariable\u001b[49m\u001b[38;5;241;43m.\u001b[39;49m\u001b[43m_execution_engine\u001b[49m\u001b[38;5;241;43m.\u001b[39;49m\u001b[43mrun_backward\u001b[49m\u001b[43m(\u001b[49m\u001b[43m  \u001b[49m\u001b[38;5;66;43;03m# Calls into the C++ engine to run the backward pass\u001b[39;49;00m\n\u001b[1;32m    826\u001b[0m \u001b[43m        \u001b[49m\u001b[43mt_outputs\u001b[49m\u001b[43m,\u001b[49m\u001b[43m \u001b[49m\u001b[38;5;241;43m*\u001b[39;49m\u001b[43margs\u001b[49m\u001b[43m,\u001b[49m\u001b[43m \u001b[49m\u001b[38;5;241;43m*\u001b[39;49m\u001b[38;5;241;43m*\u001b[39;49m\u001b[43mkwargs\u001b[49m\n\u001b[1;32m    827\u001b[0m \u001b[43m    \u001b[49m\u001b[43m)\u001b[49m  \u001b[38;5;66;03m# Calls into the C++ engine to run the backward pass\u001b[39;00m\n\u001b[1;32m    828\u001b[0m \u001b[38;5;28;01mfinally\u001b[39;00m:\n\u001b[1;32m    829\u001b[0m     \u001b[38;5;28;01mif\u001b[39;00m attach_logging_hooks:\n",
      "\u001b[0;31mRuntimeError\u001b[0m: Trying to backward through the graph a second time (or directly access saved tensors after they have already been freed). Saved intermediate values of the graph are freed when you call .backward() or autograd.grad(). Specify retain_graph=True if you need to backward through the graph a second time or if you need to access saved tensors after calling backward."
     ]
    }
   ],
   "source": [
    "optimizer.zero_grad()\n",
    "entropy_loss.backward()\n",
    "torch.nn.utils.clip_grad_norm_([transcoder.decoder.weight, transcoder.encoder.weight, sae_final.encoder.weight], max_norm=1.0)\n",
    "transcoder.decoder.weight.grad"
   ]
  },
  {
   "cell_type": "code",
   "execution_count": 105,
   "metadata": {},
   "outputs": [],
   "source": []
  },
  {
   "cell_type": "code",
   "execution_count": 102,
   "metadata": {},
   "outputs": [
    {
     "data": {
      "text/plain": [
       "tensor(3.9295, device='cuda:0', grad_fn=<MeanBackward0>)"
      ]
     },
     "execution_count": 102,
     "metadata": {},
     "output_type": "execute_result"
    }
   ],
   "source": [
    "entropy_loss"
   ]
  },
  {
   "cell_type": "code",
   "execution_count": 97,
   "metadata": {},
   "outputs": [
    {
     "data": {
      "image/png": "[encoded data removed]",
      "text/plain": [
       "<Figure size 640x480 with 1 Axes>"
      ]
     },
     "metadata": {},
     "output_type": "display_data"
    }
   ],
   "source": [
    "# Plot entropy_across_batches\n",
    "import matplotlib.pyplot as plt\n",
    "plt.plot(entropy_across_batches)\n",
    "plt.xlabel(\"Number of Tokens\")\n",
    "plt.ylabel(\"Entropy\")\n",
    "# Set x indicies to be in increments of 10 to make it easier to read\n",
    "# Each tick is 128*32 tokens\n",
    "# Measure as M of tokens\n",
    "n_ticks = 50\n",
    "plt.xticks(range(0, len(entropy_across_batches), n_ticks), [f\"{i*128*32/1e6:.2f}M\" for i in range(0, len(entropy_across_batches), n_ticks)])\n",
    "plt.show()"
   ]
  },
  {
   "cell_type": "code",
   "execution_count": 145,
   "metadata": {},
   "outputs": [
    {
     "data": {
      "text/plain": [
       "[6.206844329833984]"
      ]
     },
     "execution_count": 145,
     "metadata": {},
     "output_type": "execute_result"
    }
   ],
   "source": [
    "entropy_across_batches"
   ]
  },
  {
   "cell_type": "code",
   "execution_count": 141,
   "metadata": {},
   "outputs": [
    {
     "data": {
      "text/plain": [
       "tensor(6.2069, device='cuda:0')"
      ]
     },
     "execution_count": 141,
     "metadata": {},
     "output_type": "execute_result"
    }
   ],
   "source": [
    "# Now we want to divide feature_by_feature_attribution by each of the times it activated\n",
    "alive_output_features = running_total_for_each_feature != 0\n",
    "\n",
    "averaged_feature_by_feature_attribution = feature_by_feature_attribution[:, alive_output_features] / running_total_for_each_feature[alive_output_features].unsqueeze(0)\n",
    "# Now we want to convert to a prob-dist and calculate entropy on it, ignoring dead features\n",
    "normed_feature_by_feature_attribution = averaged_feature_by_feature_attribution / averaged_feature_by_feature_attribution.abs().sum(dim=0)\n",
    "\n",
    "logged = normed_feature_by_feature_attribution.abs().log()\n",
    "logged[logged.isinf()] = 0\n",
    "entropy = -(normed_feature_by_feature_attribution.abs() * logged).sum(dim=0)\n",
    "entropy.mean()"
   ]
  },
  {
   "cell_type": "code",
   "execution_count": 124,
   "metadata": {},
   "outputs": [
    {
     "data": {
      "text/plain": [
       "(tensor(False, device='cuda:0'),\n",
       " tensor(False, device='cuda:0'),\n",
       " tensor(False, device='cuda:0'),\n",
       " tensor(True, device='cuda:0'),\n",
       " tensor(True, device='cuda:0'),\n",
       " tensor(False, device='cuda:0'),\n",
       " tensor(True, device='cuda:0'))"
      ]
     },
     "execution_count": 124,
     "metadata": {},
     "output_type": "execute_result"
    }
   ],
   "source": [
    "(running_total_for_each_feature[alive_output_features] == 0).any(), running_total_for_each_feature[alive_output_features].isnan().any(), feature_by_feature_attribution.isnan().any(), normed_feature_by_feature_attribution.isnan().any(), entropy.isnan().any(), averaged_feature_by_feature_attribution.isnan().any(), (averaged_feature_by_feature_attribution == 0).any()"
   ]
  },
  {
   "cell_type": "code",
   "execution_count": 110,
   "metadata": {},
   "outputs": [
    {
     "data": {
      "text/plain": [
       "tensor(nan, device='cuda:0')"
      ]
     },
     "execution_count": 110,
     "metadata": {},
     "output_type": "execute_result"
    }
   ],
   "source": [
    "logged[logged.isnan()], logged.isnan().nonzero()\n",
    "normed_feature_by_feature_attribution.abs()[0, 23]"
   ]
  },
  {
   "cell_type": "code",
   "execution_count": 93,
   "metadata": {},
   "outputs": [
    {
     "data": {
      "text/plain": [
       "tensor([    -inf,     -inf,     -inf,  ..., -10.5742,     -inf,     -inf],\n",
       "       device='cuda:0')"
      ]
     },
     "execution_count": 93,
     "metadata": {},
     "output_type": "execute_result"
    }
   ],
   "source": [
    "torch.log(p1)"
   ]
  },
  {
   "cell_type": "code",
   "execution_count": 79,
   "metadata": {},
   "outputs": [],
   "source": [
    "for N in range(10):\n",
    "    assert (normed_feature_by_feature_attribution[:, N] == feature_by_feature_attribution[:, N] / running_total_for_each_feature[N]).all()"
   ]
  },
  {
   "cell_type": "code",
   "execution_count": 10,
   "metadata": {},
   "outputs": [
    {
     "data": {
      "text/plain": [
       "(tensor([False, False, False,  ..., False, False, False], device='cuda:0'),\n",
       " torch.Size([4128, 30]))"
      ]
     },
     "execution_count": 10,
     "metadata": {},
     "output_type": "execute_result"
    }
   ],
   "source": [
    "output_acts[output_indices==0]\n",
    "input_acts[output_indices==0]\n",
    "(output_indices==0).sum(-1) != 0, input_acts.shape"
   ]
  },
  {
   "cell_type": "code",
   "execution_count": 11,
   "metadata": {},
   "outputs": [
    {
     "data": {
      "text/plain": [
       "tensor([[2369],\n",
       "        [3193],\n",
       "        [3194],\n",
       "        [3204],\n",
       "        [3207],\n",
       "        [3798]], device='cuda:0')"
      ]
     },
     "execution_count": 11,
     "metadata": {},
     "output_type": "execute_result"
    }
   ],
   "source": [
    "((output_indices==0).sum(-1) != 0).nonzero()"
   ]
  },
  {
   "cell_type": "code",
   "execution_count": 39,
   "metadata": {},
   "outputs": [],
   "source": [
    "current_output_feature = 0\n",
    "num_input_features = input_features.shape[-1]\n",
    "num_output_features = output_features.shape[-1]\n",
    "feature_by_feature_attribution = torch.zeros(num_input_features, num_output_features).to(device)\n",
    "# features_set_yet = torch.zeros(num_output_features, dtype=torch.bool)\n",
    "iteration = 1\n",
    "\n",
    "for current_output_feature in range(num_output_features):\n",
    "    # Get the batch indices where the output feature is non-zero\n",
    "    nz_batch_indices = (output_indices==current_output_feature).sum(-1).nonzero()[:, 0]\n",
    "    output_virtual_weights = virtual_weights[:, current_output_feature]\n",
    "\n",
    "    # Index into the virtual weights & input indices ie find the inputs that activated the output feature\n",
    "    nz_input_ind = input_indices[nz_batch_indices]\n",
    "    batched_virtual_weights = output_virtual_weights[nz_input_ind].to(device)\n",
    "    nz_input_acts = input_acts[nz_batch_indices]\n",
    "\n",
    "    # Calculate the attribution ie act*gradient\n",
    "    current_output_attribution = nz_input_acts * batched_virtual_weights \n",
    "\n",
    "    # Set the feature by feature attribution (average w/ existing attributions)    \n",
    "    averaged_current_output_attribution = current_output_attribution.mean(dim=0)\n",
    "    tmp_feature_list = torch.zeros(num_input_features).to(device)\n",
    "    # Assign the averaged attributions to the correct input features\n",
    "    # tmp_feature_list[nz_input_ind] = averaged_current_output_attribution\n",
    "\n",
    "    feature_by_feature_attribution[nz_input_ind, current_output_feature] += averaged_current_output_attribution\n",
    "\n",
    "# Normalize the attributions (by abs value cause negative gradients)\n",
    "# total_abs_value = current_output_attribution.abs().sum(dim=-1)\n",
    "# normed_current_output_attribution = current_output_attribution / total_abs_value[:, None]\n"
   ]
  },
  {
   "cell_type": "code",
   "execution_count": 40,
   "metadata": {},
   "outputs": [],
   "source": []
  },
  {
   "cell_type": "code",
   "execution_count": 106,
   "metadata": {},
   "outputs": [
    {
     "data": {
      "text/plain": [
       "(tensor([1.0000, 1.0000, 1.0000, 1.0000, 1.0000, 1.0000], device='cuda:0'),\n",
       " tensor(0.7414, device='cuda:0'))"
      ]
     },
     "execution_count": 106,
     "metadata": {},
     "output_type": "execute_result"
    }
   ],
   "source": [
    "normed_current_output_attribution.abs().sum(dim=-1), normed_current_output_attribution.mean(dim=0).abs().sum(dim=-1)"
   ]
  },
  {
   "cell_type": "code",
   "execution_count": 110,
   "metadata": {},
   "outputs": [
    {
     "data": {
      "text/plain": [
       "tensor(1., device='cuda:0')"
      ]
     },
     "execution_count": 110,
     "metadata": {},
     "output_type": "execute_result"
    }
   ],
   "source": [
    "normed_current_output_attribution.abs().mean(dim=0).abs().sum()"
   ]
  },
  {
   "cell_type": "code",
   "execution_count": 105,
   "metadata": {},
   "outputs": [
    {
     "data": {
      "text/plain": [
       "torch.Size([6, 30])"
      ]
     },
     "execution_count": 105,
     "metadata": {},
     "output_type": "execute_result"
    }
   ],
   "source": [
    "normed_current_output_attribution.shape"
   ]
  },
  {
   "cell_type": "code",
   "execution_count": 96,
   "metadata": {},
   "outputs": [
    {
     "ename": "AssertionError",
     "evalue": "",
     "output_type": "error",
     "traceback": [
      "\u001b[0;31m---------------------------------------------------------------------------\u001b[0m",
      "\u001b[0;31mAssertionError\u001b[0m                            Traceback (most recent call last)",
      "Cell \u001b[0;32mIn[96], line 4\u001b[0m\n\u001b[1;32m      2\u001b[0m \u001b[38;5;66;03m# Normalize: \u001b[39;00m\n\u001b[1;32m      3\u001b[0m normed_current_output_attribution \u001b[38;5;241m=\u001b[39m current_output_attribution \u001b[38;5;241m/\u001b[39m total_abs_value[:, \u001b[38;5;28;01mNone\u001b[39;00m]\n\u001b[0;32m----> 4\u001b[0m \u001b[38;5;28;01massert\u001b[39;00m normed_current_output_attribution\u001b[38;5;241m.\u001b[39mnorm(dim\u001b[38;5;241m=\u001b[39m\u001b[38;5;241m-\u001b[39m\u001b[38;5;241m1\u001b[39m)[\u001b[38;5;241m0\u001b[39m] \u001b[38;5;241m==\u001b[39m \u001b[38;5;241m1\u001b[39m\n",
      "\u001b[0;31mAssertionError\u001b[0m: "
     ]
    }
   ],
   "source": [
    "total_abs_value = current_output_attribution.abs().sum(dim=-1)\n",
    "# Normalize: \n",
    "normed_current_output_attribution = current_output_attribution / total_abs_value[:, None]"
   ]
  },
  {
   "cell_type": "code",
   "execution_count": 100,
   "metadata": {},
   "outputs": [
    {
     "data": {
      "text/plain": [
       "tensor([[-3.6227e-02, -2.6679e-03, -2.5494e-02, -1.2283e-03,  1.7044e-01,\n",
       "         -4.9746e-02, -1.8890e-02, -6.3689e-02, -3.3854e-02,  1.7237e-01,\n",
       "         -6.0978e-03,  2.1763e-02, -4.3416e-02,  7.5457e-02,  2.9024e-02,\n",
       "         -6.1067e-03,  5.2058e-03, -3.8862e-02, -6.2616e-03, -1.0429e-02,\n",
       "         -2.1213e-02, -3.2377e-02, -2.1631e-02,  1.1801e-02, -4.8583e-02,\n",
       "          7.9568e-03,  3.5445e-03, -9.7144e-03, -1.8767e-02, -7.1831e-03],\n",
       "        [-1.3719e-02,  2.5239e-03,  4.5559e-01,  6.0995e-03,  1.5561e-01,\n",
       "         -4.0269e-02, -1.2523e-02, -4.5647e-02,  6.8993e-03, -1.0656e-02,\n",
       "         -5.3215e-02, -1.6520e-02, -9.7398e-03,  2.4028e-03, -1.1964e-02,\n",
       "         -5.8181e-03, -1.9840e-02, -1.1012e-03, -1.8136e-02,  2.4025e-03,\n",
       "          2.2144e-04,  1.3957e-02, -2.2930e-02,  9.7942e-03, -1.6925e-02,\n",
       "         -5.8936e-03, -6.2075e-03,  1.3838e-02, -1.9537e-02,  2.1156e-05],\n",
       "        [-9.3610e-02,  2.0581e-03,  2.8441e-03, -1.7609e-02,  3.2889e-01,\n",
       "          2.9626e-03, -5.8919e-03, -9.6776e-03,  1.6282e-02, -3.5212e-02,\n",
       "         -1.0118e-01,  1.1903e-02,  2.6110e-02, -4.1736e-02,  1.5991e-02,\n",
       "         -3.8399e-03, -5.5625e-03, -3.4391e-02, -4.4615e-02, -2.1330e-02,\n",
       "          2.6017e-03,  2.2486e-04, -3.8361e-02,  4.8169e-02,  3.6406e-02,\n",
       "          1.2068e-02, -1.4367e-02, -1.3132e-02, -2.5259e-03, -1.0446e-02],\n",
       "        [-8.1073e-03,  4.2762e-02, -5.2288e-02,  4.5075e-03,  3.3414e-01,\n",
       "          2.7188e-03, -1.4417e-02, -1.8804e-02,  1.2070e-01,  4.3481e-03,\n",
       "          4.6848e-05, -4.1434e-02, -3.2482e-02, -1.1042e-02, -1.0281e-02,\n",
       "          1.1483e-03, -3.4628e-02,  2.5828e-03, -2.0375e-02,  2.2612e-02,\n",
       "         -4.7735e-03,  3.2990e-04, -2.8831e-02, -3.4438e-02,  1.6669e-04,\n",
       "         -4.7174e-02, -1.0905e-02, -8.9945e-03, -7.7301e-02, -7.6553e-03],\n",
       "        [-5.0751e-03, -4.3663e-02,  3.6039e-03,  2.9102e-01,  6.3041e-03,\n",
       "         -1.4183e-02, -6.8183e-02,  6.1243e-03, -4.5275e-02, -2.7905e-03,\n",
       "         -1.1467e-02, -7.7277e-02,  5.9998e-03,  1.1346e-02,  7.9721e-04,\n",
       "         -3.7884e-02, -1.1661e-02, -2.0265e-02,  1.7895e-02, -5.9277e-02,\n",
       "         -1.9032e-02, -7.0333e-03,  1.2288e-02,  3.3335e-02, -2.6896e-02,\n",
       "         -1.2939e-02, -1.0968e-01,  6.8002e-03, -1.8959e-02, -1.2946e-02],\n",
       "        [ 3.2406e-03,  5.2416e-01, -2.5509e-03, -2.0306e-03, -7.5386e-03,\n",
       "          1.6643e-01,  1.2463e-02,  4.3980e-03, -1.0011e-02,  1.3485e-02,\n",
       "         -2.3036e-03, -1.9625e-03, -1.6080e-02,  8.4582e-04,  9.0141e-03,\n",
       "         -1.5201e-02, -3.6115e-03,  5.4018e-03, -1.2612e-02, -3.4631e-03,\n",
       "         -3.1816e-02, -2.7081e-03, -3.3674e-02,  1.9163e-02,  5.9009e-03,\n",
       "         -1.0380e-02, -6.0363e-02,  3.3278e-03, -1.5466e-02,  4.0239e-04]],\n",
       "       device='cuda:0')"
      ]
     },
     "execution_count": 100,
     "metadata": {},
     "output_type": "execute_result"
    }
   ],
   "source": [
    "normed_current_output_attribution"
   ]
  },
  {
   "cell_type": "code",
   "execution_count": 97,
   "metadata": {},
   "outputs": [
    {
     "data": {
      "text/plain": [
       "tensor([0.2906, 0.4918, 0.3760, 0.3835, 0.3477, 0.5571], device='cuda:0')"
      ]
     },
     "execution_count": 97,
     "metadata": {},
     "output_type": "execute_result"
    }
   ],
   "source": [
    "normed_current_output_attribution.norm(dim=-1)"
   ]
  },
  {
   "cell_type": "code",
   "execution_count": 95,
   "metadata": {},
   "outputs": [
    {
     "data": {
      "text/plain": [
       "tensor(4.4699, device='cuda:0')"
      ]
     },
     "execution_count": 95,
     "metadata": {},
     "output_type": "execute_result"
    }
   ],
   "source": [
    "current_output_attribution[0].abs().sum()"
   ]
  },
  {
   "cell_type": "code",
   "execution_count": 7,
   "metadata": {},
   "outputs": [],
   "source": [
    "unique_input_indices = torch.unique(input_indices)\n",
    "input_features[:, unique_input_indices].isnan().any()\n",
    "unique_output_indices = torch.unique(output_indices)\n",
    "\n",
    "# output_features.shape, unique_output_indices.shape\n",
    "# virtual_weights[unique_input_indices][:, unique_output_indices]"
   ]
  },
  {
   "cell_type": "code",
   "execution_count": 9,
   "metadata": {},
   "outputs": [
    {
     "data": {
      "text/plain": [
       "(torch.Size([6144, 6143]), tensor(6143, device='cuda:0'))"
      ]
     },
     "execution_count": 9,
     "metadata": {},
     "output_type": "execute_result"
    }
   ],
   "source": [
    "virtual_weights.shape, unique_output_indices.max()"
   ]
  },
  {
   "cell_type": "code",
   "execution_count": 12,
   "metadata": {},
   "outputs": [
    {
     "ename": "OutOfMemoryError",
     "evalue": "CUDA out of memory. Tried to allocate 795.99 GiB. GPU 0 has a total capacity of 15.73 GiB of which 14.37 GiB is free. Process 2007258 has 1.35 GiB memory in use. Of the allocated memory 1.07 GiB is allocated by PyTorch, and 93.50 MiB is reserved by PyTorch but unallocated. If reserved but unallocated memory is large try setting PYTORCH_CUDA_ALLOC_CONF=expandable_segments:True to avoid fragmentation.  See documentation for Memory Management  (https://pytorch.org/docs/stable/notes/cuda.html#environment-variables)",
     "output_type": "error",
     "traceback": [
      "\u001b[0;31m---------------------------------------------------------------------------\u001b[0m",
      "\u001b[0;31mOutOfMemoryError\u001b[0m                          Traceback (most recent call last)",
      "Cell \u001b[0;32mIn[12], line 40\u001b[0m\n\u001b[1;32m     37\u001b[0m sparse_virtual_weights \u001b[38;5;241m=\u001b[39m virtual_weights[unique_input_indices][:, unique_output_indices]\n\u001b[1;32m     39\u001b[0m \u001b[38;5;66;03m# Perform the sparse matrix multiplication\u001b[39;00m\n\u001b[0;32m---> 40\u001b[0m spar_attr \u001b[38;5;241m=\u001b[39m \u001b[43mtorch\u001b[49m\u001b[38;5;241;43m.\u001b[39;49m\u001b[43meinsum\u001b[49m\u001b[43m(\u001b[49m\u001b[38;5;124;43m'\u001b[39;49m\u001b[38;5;124;43mbi,ij->bij\u001b[39;49m\u001b[38;5;124;43m'\u001b[39;49m\u001b[43m,\u001b[49m\u001b[43m \u001b[49m\u001b[43msparse_input_features\u001b[49m\u001b[43m,\u001b[49m\u001b[43m \u001b[49m\u001b[43msparse_virtual_weights\u001b[49m\u001b[43m)\u001b[49m\n\u001b[1;32m     42\u001b[0m \u001b[38;5;66;03m# # Create a tensor to hold the full attribution\u001b[39;00m\n\u001b[1;32m     43\u001b[0m \u001b[38;5;66;03m# full_attribution = torch.zeros(input_features.shape[0], input_features.shape[1], virtual_weights.shape[1], device=input_features.device)\u001b[39;00m\n\u001b[1;32m     44\u001b[0m \n\u001b[1;32m     45\u001b[0m \u001b[38;5;66;03m# # Place the sparse attribution results in the correct positions in the full attribution tensor\u001b[39;00m\n\u001b[1;32m     46\u001b[0m \u001b[38;5;66;03m# full_attribution[:, unique_input_indices[:, None], unique_output_indices] = spar_attr\u001b[39;00m\n",
      "File \u001b[0;32m~/dictionary_learning/test_env/lib/python3.11/site-packages/torch/functional.py:386\u001b[0m, in \u001b[0;36meinsum\u001b[0;34m(*args)\u001b[0m\n\u001b[1;32m    381\u001b[0m     \u001b[38;5;28;01mreturn\u001b[39;00m einsum(equation, \u001b[38;5;241m*\u001b[39m_operands)\n\u001b[1;32m    383\u001b[0m \u001b[38;5;28;01mif\u001b[39;00m \u001b[38;5;28mlen\u001b[39m(operands) \u001b[38;5;241m<\u001b[39m\u001b[38;5;241m=\u001b[39m \u001b[38;5;241m2\u001b[39m \u001b[38;5;129;01mor\u001b[39;00m \u001b[38;5;129;01mnot\u001b[39;00m opt_einsum\u001b[38;5;241m.\u001b[39menabled:\n\u001b[1;32m    384\u001b[0m     \u001b[38;5;66;03m# the path for contracting 0 or 1 time(s) is already optimized\u001b[39;00m\n\u001b[1;32m    385\u001b[0m     \u001b[38;5;66;03m# or the user has disabled using opt_einsum\u001b[39;00m\n\u001b[0;32m--> 386\u001b[0m     \u001b[38;5;28;01mreturn\u001b[39;00m \u001b[43m_VF\u001b[49m\u001b[38;5;241;43m.\u001b[39;49m\u001b[43meinsum\u001b[49m\u001b[43m(\u001b[49m\u001b[43mequation\u001b[49m\u001b[43m,\u001b[49m\u001b[43m \u001b[49m\u001b[43moperands\u001b[49m\u001b[43m)\u001b[49m  \u001b[38;5;66;03m# type: ignore[attr-defined]\u001b[39;00m\n\u001b[1;32m    388\u001b[0m path \u001b[38;5;241m=\u001b[39m \u001b[38;5;28;01mNone\u001b[39;00m\n\u001b[1;32m    389\u001b[0m \u001b[38;5;28;01mif\u001b[39;00m opt_einsum\u001b[38;5;241m.\u001b[39mis_available():\n",
      "\u001b[0;31mOutOfMemoryError\u001b[0m: CUDA out of memory. Tried to allocate 795.99 GiB. GPU 0 has a total capacity of 15.73 GiB of which 14.37 GiB is free. Process 2007258 has 1.35 GiB memory in use. Of the allocated memory 1.07 GiB is allocated by PyTorch, and 93.50 MiB is reserved by PyTorch but unallocated. If reserved but unallocated memory is large try setting PYTORCH_CUDA_ALLOC_CONF=expandable_segments:True to avoid fragmentation.  See documentation for Memory Management  (https://pytorch.org/docs/stable/notes/cuda.html#environment-variables)"
     ]
    }
   ],
   "source": [
    "import torch\n",
    "from einops import rearrange, einsum\n",
    "\n",
    "\n",
    "def sparse_attribution(input_features, virtual_weights, input_indices, output_indices):\n",
    "    # Find unique input and output indices across the batch\n",
    "    unique_input_indices = torch.unique(input_indices)\n",
    "    unique_output_indices = torch.unique(output_indices)\n",
    "\n",
    "    # combine batch and sequence dimensions\n",
    "    input_features = rearrange(input_features, 'b s i -> (b s) i')\n",
    "\n",
    "    # Extract relevant slices of input_features and virtual_weights\n",
    "    sparse_input_features = input_features[:, unique_input_indices]\n",
    "    sparse_virtual_weights = virtual_weights[unique_input_indices][:, unique_output_indices]\n",
    "\n",
    "    # Perform the sparse matrix multiplication\n",
    "    sparse_attribution = torch.einsum('bi,ij->bij', sparse_input_features, sparse_virtual_weights)\n",
    "\n",
    "    # Create a tensor to hold the full attribution\n",
    "    full_attribution = torch.zeros(input_features.shape[0], input_features.shape[1], virtual_weights.shape[1], device=input_features.device)\n",
    "\n",
    "    # Place the sparse attribution results in the correct positions in the full attribution tensor\n",
    "    full_attribution[:, unique_input_indices[:, None], unique_output_indices] = sparse_attribution\n",
    "\n",
    "    return full_attribution\n",
    "\n",
    "# Usage\n",
    "# Assuming input_features, virtual_weights, input_indices, and output_indices are defined\n",
    "# attribution = sparse_attribution(input_features, virtual_weights, input_indices, output_indices)\n",
    "\n",
    "unique_input_indices = torch.unique(input_indices)\n",
    "unique_output_indices = torch.unique(output_indices)\n",
    "\n",
    "# Extract relevant slices of input_features and virtual_weights\n",
    "sparse_input_features = input_features[:, unique_input_indices]\n",
    "sparse_virtual_weights = virtual_weights[unique_input_indices][:, unique_output_indices]\n",
    "\n",
    "# Perform the sparse matrix multiplication\n",
    "spar_attr = torch.einsum('bi,ij->bij', sparse_input_features, sparse_virtual_weights)\n",
    "\n",
    "# # Create a tensor to hold the full attribution\n",
    "# full_attribution = torch.zeros(input_features.shape[0], input_features.shape[1], virtual_weights.shape[1], device=input_features.device)\n",
    "\n",
    "# # Place the sparse attribution results in the correct positions in the full attribution tensor\n",
    "# full_attribution[:, unique_input_indices[:, None], unique_output_indices] = spar_attr\n"
   ]
  },
  {
   "cell_type": "code",
   "execution_count": 5,
   "metadata": {},
   "outputs": [
    {
     "data": {
      "text/plain": [
       "(torch.Size([8256, 6144]), torch.Size([4292]), torch.Size([6030]))"
      ]
     },
     "execution_count": 5,
     "metadata": {},
     "output_type": "execute_result"
    }
   ],
   "source": [
    "input_features.shape, unique_input_indices.shape, unique_output_indices.shape"
   ]
  },
  {
   "cell_type": "code",
   "execution_count": 6,
   "metadata": {},
   "outputs": [
    {
     "data": {
      "text/plain": [
       "(torch.Size([8256, 4292]), torch.Size([4292, 6030]))"
      ]
     },
     "execution_count": 6,
     "metadata": {},
     "output_type": "execute_result"
    }
   ],
   "source": [
    "sparse_input_features.shape, sparse_virtual_weights.shape"
   ]
  },
  {
   "cell_type": "code",
   "execution_count": 4,
   "metadata": {},
   "outputs": [
    {
     "name": "stdout",
     "output_type": "stream",
     "text": [
      "input_features shape: torch.Size([64, 129, 6144])\n",
      "unique_input_indices shape: torch.Size([4292])\n",
      "Max value in unique_input_indices: 6142\n",
      "Min value in unique_input_indices: 0\n"
     ]
    }
   ],
   "source": [
    "print(\"input_features shape:\", input_features.shape)\n",
    "unique_input_indices = torch.unique(input_indices)\n",
    "print(\"unique_input_indices shape:\", unique_input_indices.shape)\n",
    "print(\"Max value in unique_input_indices:\", unique_input_indices.max().item())\n",
    "print(\"Min value in unique_input_indices:\", unique_input_indices.min().item())"
   ]
  },
  {
   "cell_type": "code",
   "execution_count": 11,
   "metadata": {},
   "outputs": [],
   "source": [
    "\n",
    "unique_input_indices = input_indices.unique()\n",
    "unique_output_indices = output_indices.unique()\n",
    "\n",
    "# # Extract relevant slices of input_features and virtual_weights\n",
    "sparse_input_features = input_features[:, unique_input_indices]\n",
    "sparse_virtual_weights = virtual_weights[unique_input_indices][:, unique_output_indices]\n",
    "# sparse_input_features"
   ]
  },
  {
   "cell_type": "code",
   "execution_count": 7,
   "metadata": {},
   "outputs": [
    {
     "data": {
      "text/plain": [
       "(4292,)"
      ]
     },
     "execution_count": 7,
     "metadata": {},
     "output_type": "execute_result"
    }
   ],
   "source": [
    "uniq = input_indices.unique().cpu().numpy()\n",
    "uniq"
   ]
  },
  {
   "cell_type": "code",
   "execution_count": 8,
   "metadata": {},
   "outputs": [
    {
     "ename": "AttributeError",
     "evalue": "'Tensor' object has no attribute 'index'",
     "output_type": "error",
     "traceback": [
      "\u001b[0;31m---------------------------------------------------------------------------\u001b[0m",
      "\u001b[0;31mAttributeError\u001b[0m                            Traceback (most recent call last)",
      "Cell \u001b[0;32mIn[8], line 1\u001b[0m\n\u001b[0;32m----> 1\u001b[0m \u001b[43minput_features\u001b[49m\u001b[38;5;241;43m.\u001b[39;49m\u001b[43mindex\u001b[49m([\u001b[38;5;241m0\u001b[39m,\u001b[38;5;241m1\u001b[39m], dim\u001b[38;5;241m=\u001b[39m\u001b[38;5;241m-\u001b[39m\u001b[38;5;241m1\u001b[39m)\n",
      "\u001b[0;31mAttributeError\u001b[0m: 'Tensor' object has no attribute 'index'"
     ]
    }
   ],
   "source": [
    "input_features.index([0,1], dim=-1)"
   ]
  },
  {
   "cell_type": "code",
   "execution_count": 12,
   "metadata": {},
   "outputs": [
    {
     "ename": "RuntimeError",
     "evalue": "CUDA error: device-side assert triggered\nCUDA kernel errors might be asynchronously reported at some other API call, so the stacktrace below might be incorrect.\nFor debugging consider passing CUDA_LAUNCH_BLOCKING=1\nCompile with `TORCH_USE_CUDA_DSA` to enable device-side assertions.\n",
     "output_type": "error",
     "traceback": [
      "\u001b[0;31m---------------------------------------------------------------------------\u001b[0m",
      "\u001b[0;31mRuntimeError\u001b[0m                              Traceback (most recent call last)",
      "Cell \u001b[0;32mIn[12], line 32\u001b[0m\n\u001b[1;32m     26\u001b[0m     \u001b[38;5;28;01mreturn\u001b[39;00m full_attribution\n\u001b[1;32m     28\u001b[0m \u001b[38;5;66;03m# Usage\u001b[39;00m\n\u001b[1;32m     29\u001b[0m \u001b[38;5;66;03m# Assuming input_features, virtual_weights, input_indices, and output_indices are defined\u001b[39;00m\n\u001b[1;32m     30\u001b[0m \u001b[38;5;66;03m# attribution = sparse_attribution(input_features, virtual_weights, input_indices, output_indices)\u001b[39;00m\n\u001b[0;32m---> 32\u001b[0m unique_input_indices \u001b[38;5;241m=\u001b[39m \u001b[43mtorch\u001b[49m\u001b[38;5;241;43m.\u001b[39;49m\u001b[43munique\u001b[49m\u001b[43m(\u001b[49m\u001b[43minput_indices\u001b[49m\u001b[43m)\u001b[49m\n\u001b[1;32m     33\u001b[0m unique_output_indices \u001b[38;5;241m=\u001b[39m torch\u001b[38;5;241m.\u001b[39munique(output_indices)\n\u001b[1;32m     35\u001b[0m \u001b[38;5;66;03m# Extract relevant slices of input_features and virtual_weights\u001b[39;00m\n",
      "File \u001b[0;32m~/dictionary_learning/test_env/lib/python3.11/site-packages/torch/_jit_internal.py:503\u001b[0m, in \u001b[0;36mboolean_dispatch.<locals>.fn\u001b[0;34m(*args, **kwargs)\u001b[0m\n\u001b[1;32m    501\u001b[0m     \u001b[38;5;28;01mreturn\u001b[39;00m if_true(\u001b[38;5;241m*\u001b[39margs, \u001b[38;5;241m*\u001b[39m\u001b[38;5;241m*\u001b[39mkwargs)\n\u001b[1;32m    502\u001b[0m \u001b[38;5;28;01melse\u001b[39;00m:\n\u001b[0;32m--> 503\u001b[0m     \u001b[38;5;28;01mreturn\u001b[39;00m \u001b[43mif_false\u001b[49m\u001b[43m(\u001b[49m\u001b[38;5;241;43m*\u001b[39;49m\u001b[43margs\u001b[49m\u001b[43m,\u001b[49m\u001b[43m \u001b[49m\u001b[38;5;241;43m*\u001b[39;49m\u001b[38;5;241;43m*\u001b[39;49m\u001b[43mkwargs\u001b[49m\u001b[43m)\u001b[49m\n",
      "File \u001b[0;32m~/dictionary_learning/test_env/lib/python3.11/site-packages/torch/_jit_internal.py:503\u001b[0m, in \u001b[0;36mboolean_dispatch.<locals>.fn\u001b[0;34m(*args, **kwargs)\u001b[0m\n\u001b[1;32m    501\u001b[0m     \u001b[38;5;28;01mreturn\u001b[39;00m if_true(\u001b[38;5;241m*\u001b[39margs, \u001b[38;5;241m*\u001b[39m\u001b[38;5;241m*\u001b[39mkwargs)\n\u001b[1;32m    502\u001b[0m \u001b[38;5;28;01melse\u001b[39;00m:\n\u001b[0;32m--> 503\u001b[0m     \u001b[38;5;28;01mreturn\u001b[39;00m \u001b[43mif_false\u001b[49m\u001b[43m(\u001b[49m\u001b[38;5;241;43m*\u001b[39;49m\u001b[43margs\u001b[49m\u001b[43m,\u001b[49m\u001b[43m \u001b[49m\u001b[38;5;241;43m*\u001b[39;49m\u001b[38;5;241;43m*\u001b[39;49m\u001b[43mkwargs\u001b[49m\u001b[43m)\u001b[49m\n",
      "File \u001b[0;32m~/dictionary_learning/test_env/lib/python3.11/site-packages/torch/functional.py:997\u001b[0m, in \u001b[0;36m_return_output\u001b[0;34m(input, sorted, return_inverse, return_counts, dim)\u001b[0m\n\u001b[1;32m    994\u001b[0m \u001b[38;5;28;01mif\u001b[39;00m has_torch_function_unary(\u001b[38;5;28minput\u001b[39m):\n\u001b[1;32m    995\u001b[0m     \u001b[38;5;28;01mreturn\u001b[39;00m _unique_impl(\u001b[38;5;28minput\u001b[39m, \u001b[38;5;28msorted\u001b[39m, return_inverse, return_counts, dim)\n\u001b[0;32m--> 997\u001b[0m output, _, _ \u001b[38;5;241m=\u001b[39m \u001b[43m_unique_impl\u001b[49m\u001b[43m(\u001b[49m\u001b[38;5;28;43minput\u001b[39;49m\u001b[43m,\u001b[49m\u001b[43m \u001b[49m\u001b[38;5;28;43msorted\u001b[39;49m\u001b[43m,\u001b[49m\u001b[43m \u001b[49m\u001b[43mreturn_inverse\u001b[49m\u001b[43m,\u001b[49m\u001b[43m \u001b[49m\u001b[43mreturn_counts\u001b[49m\u001b[43m,\u001b[49m\u001b[43m \u001b[49m\u001b[43mdim\u001b[49m\u001b[43m)\u001b[49m\n\u001b[1;32m    998\u001b[0m \u001b[38;5;28;01mreturn\u001b[39;00m output\n",
      "File \u001b[0;32m~/dictionary_learning/test_env/lib/python3.11/site-packages/torch/functional.py:911\u001b[0m, in \u001b[0;36m_unique_impl\u001b[0;34m(input, sorted, return_inverse, return_counts, dim)\u001b[0m\n\u001b[1;32m    903\u001b[0m     output, inverse_indices, counts \u001b[38;5;241m=\u001b[39m _VF\u001b[38;5;241m.\u001b[39munique_dim(\n\u001b[1;32m    904\u001b[0m         \u001b[38;5;28minput\u001b[39m,\n\u001b[1;32m    905\u001b[0m         dim,\n\u001b[0;32m   (...)\u001b[0m\n\u001b[1;32m    908\u001b[0m         return_counts\u001b[38;5;241m=\u001b[39mreturn_counts,\n\u001b[1;32m    909\u001b[0m     )\n\u001b[1;32m    910\u001b[0m \u001b[38;5;28;01melse\u001b[39;00m:\n\u001b[0;32m--> 911\u001b[0m     output, inverse_indices, counts \u001b[38;5;241m=\u001b[39m \u001b[43mtorch\u001b[49m\u001b[38;5;241;43m.\u001b[39;49m\u001b[43m_unique2\u001b[49m\u001b[43m(\u001b[49m\n\u001b[1;32m    912\u001b[0m \u001b[43m        \u001b[49m\u001b[38;5;28;43minput\u001b[39;49m\u001b[43m,\u001b[49m\n\u001b[1;32m    913\u001b[0m \u001b[43m        \u001b[49m\u001b[38;5;28;43msorted\u001b[39;49m\u001b[38;5;241;43m=\u001b[39;49m\u001b[38;5;28;43msorted\u001b[39;49m\u001b[43m,\u001b[49m\n\u001b[1;32m    914\u001b[0m \u001b[43m        \u001b[49m\u001b[43mreturn_inverse\u001b[49m\u001b[38;5;241;43m=\u001b[39;49m\u001b[43mreturn_inverse\u001b[49m\u001b[43m,\u001b[49m\n\u001b[1;32m    915\u001b[0m \u001b[43m        \u001b[49m\u001b[43mreturn_counts\u001b[49m\u001b[38;5;241;43m=\u001b[39;49m\u001b[43mreturn_counts\u001b[49m\u001b[43m,\u001b[49m\n\u001b[1;32m    916\u001b[0m \u001b[43m    \u001b[49m\u001b[43m)\u001b[49m\n\u001b[1;32m    917\u001b[0m \u001b[38;5;28;01mreturn\u001b[39;00m output, inverse_indices, counts\n",
      "\u001b[0;31mRuntimeError\u001b[0m: CUDA error: device-side assert triggered\nCUDA kernel errors might be asynchronously reported at some other API call, so the stacktrace below might be incorrect.\nFor debugging consider passing CUDA_LAUNCH_BLOCKING=1\nCompile with `TORCH_USE_CUDA_DSA` to enable device-side assertions.\n"
     ]
    }
   ],
   "source": []
  },
  {
   "cell_type": "code",
   "execution_count": 38,
   "metadata": {},
   "outputs": [
    {
     "ename": "OutOfMemoryError",
     "evalue": "CUDA out of memory. Tried to allocate 1160.81 GiB. GPU 0 has a total capacity of 15.73 GiB of which 13.95 GiB is free. Process 1969018 has 1.78 GiB memory in use. Of the allocated memory 1.55 GiB is allocated by PyTorch, and 37.74 MiB is reserved by PyTorch but unallocated. If reserved but unallocated memory is large try setting PYTORCH_CUDA_ALLOC_CONF=expandable_segments:True to avoid fragmentation.  See documentation for Memory Management  (https://pytorch.org/docs/stable/notes/cuda.html#environment-variables)",
     "output_type": "error",
     "traceback": [
      "\u001b[0;31m---------------------------------------------------------------------------\u001b[0m",
      "\u001b[0;31mOutOfMemoryError\u001b[0m                          Traceback (most recent call last)",
      "Cell \u001b[0;32mIn[38], line 3\u001b[0m\n\u001b[1;32m      1\u001b[0m \u001b[38;5;28;01mfrom\u001b[39;00m \u001b[38;5;21;01meinops\u001b[39;00m \u001b[38;5;28;01mimport\u001b[39;00m rearrange, einsum\n\u001b[1;32m      2\u001b[0m input_features \u001b[38;5;241m=\u001b[39m rearrange(input_features, \u001b[38;5;124m'\u001b[39m\u001b[38;5;124mb s f -> (b s) f\u001b[39m\u001b[38;5;124m'\u001b[39m)\n\u001b[0;32m----> 3\u001b[0m attribution \u001b[38;5;241m=\u001b[39m \u001b[43meinsum\u001b[49m\u001b[43m(\u001b[49m\u001b[43minput_features\u001b[49m\u001b[43m,\u001b[49m\u001b[43m \u001b[49m\u001b[43mvirtual_weights\u001b[49m\u001b[43m,\u001b[49m\u001b[43m \u001b[49m\u001b[38;5;124;43m\"\u001b[39;49m\u001b[38;5;124;43mb f1, f1 f2 -> b f1 f2\u001b[39;49m\u001b[38;5;124;43m\"\u001b[39;49m\u001b[43m)\u001b[49m\n",
      "File \u001b[0;32m~/dictionary_learning/test_env/lib/python3.11/site-packages/einops/einops.py:907\u001b[0m, in \u001b[0;36meinsum\u001b[0;34m(*tensors_and_pattern)\u001b[0m\n\u001b[1;32m    905\u001b[0m tensors \u001b[38;5;241m=\u001b[39m tensors_and_pattern[:\u001b[38;5;241m-\u001b[39m\u001b[38;5;241m1\u001b[39m]\n\u001b[1;32m    906\u001b[0m pattern \u001b[38;5;241m=\u001b[39m _compactify_pattern_for_einsum(pattern)\n\u001b[0;32m--> 907\u001b[0m \u001b[38;5;28;01mreturn\u001b[39;00m \u001b[43mget_backend\u001b[49m\u001b[43m(\u001b[49m\u001b[43mtensors\u001b[49m\u001b[43m[\u001b[49m\u001b[38;5;241;43m0\u001b[39;49m\u001b[43m]\u001b[49m\u001b[43m)\u001b[49m\u001b[38;5;241;43m.\u001b[39;49m\u001b[43meinsum\u001b[49m\u001b[43m(\u001b[49m\u001b[43mpattern\u001b[49m\u001b[43m,\u001b[49m\u001b[43m \u001b[49m\u001b[38;5;241;43m*\u001b[39;49m\u001b[43mtensors\u001b[49m\u001b[43m)\u001b[49m\n",
      "File \u001b[0;32m~/dictionary_learning/test_env/lib/python3.11/site-packages/einops/_backends.py:287\u001b[0m, in \u001b[0;36mTorchBackend.einsum\u001b[0;34m(self, pattern, *x)\u001b[0m\n\u001b[1;32m    286\u001b[0m \u001b[38;5;28;01mdef\u001b[39;00m \u001b[38;5;21meinsum\u001b[39m(\u001b[38;5;28mself\u001b[39m, pattern, \u001b[38;5;241m*\u001b[39mx):\n\u001b[0;32m--> 287\u001b[0m     \u001b[38;5;28;01mreturn\u001b[39;00m \u001b[38;5;28;43mself\u001b[39;49m\u001b[38;5;241;43m.\u001b[39;49m\u001b[43mtorch\u001b[49m\u001b[38;5;241;43m.\u001b[39;49m\u001b[43meinsum\u001b[49m\u001b[43m(\u001b[49m\u001b[43mpattern\u001b[49m\u001b[43m,\u001b[49m\u001b[43m \u001b[49m\u001b[38;5;241;43m*\u001b[39;49m\u001b[43mx\u001b[49m\u001b[43m)\u001b[49m\n",
      "File \u001b[0;32m~/dictionary_learning/test_env/lib/python3.11/site-packages/torch/functional.py:386\u001b[0m, in \u001b[0;36meinsum\u001b[0;34m(*args)\u001b[0m\n\u001b[1;32m    381\u001b[0m     \u001b[38;5;28;01mreturn\u001b[39;00m einsum(equation, \u001b[38;5;241m*\u001b[39m_operands)\n\u001b[1;32m    383\u001b[0m \u001b[38;5;28;01mif\u001b[39;00m \u001b[38;5;28mlen\u001b[39m(operands) \u001b[38;5;241m<\u001b[39m\u001b[38;5;241m=\u001b[39m \u001b[38;5;241m2\u001b[39m \u001b[38;5;129;01mor\u001b[39;00m \u001b[38;5;129;01mnot\u001b[39;00m opt_einsum\u001b[38;5;241m.\u001b[39menabled:\n\u001b[1;32m    384\u001b[0m     \u001b[38;5;66;03m# the path for contracting 0 or 1 time(s) is already optimized\u001b[39;00m\n\u001b[1;32m    385\u001b[0m     \u001b[38;5;66;03m# or the user has disabled using opt_einsum\u001b[39;00m\n\u001b[0;32m--> 386\u001b[0m     \u001b[38;5;28;01mreturn\u001b[39;00m \u001b[43m_VF\u001b[49m\u001b[38;5;241;43m.\u001b[39;49m\u001b[43meinsum\u001b[49m\u001b[43m(\u001b[49m\u001b[43mequation\u001b[49m\u001b[43m,\u001b[49m\u001b[43m \u001b[49m\u001b[43moperands\u001b[49m\u001b[43m)\u001b[49m  \u001b[38;5;66;03m# type: ignore[attr-defined]\u001b[39;00m\n\u001b[1;32m    388\u001b[0m path \u001b[38;5;241m=\u001b[39m \u001b[38;5;28;01mNone\u001b[39;00m\n\u001b[1;32m    389\u001b[0m \u001b[38;5;28;01mif\u001b[39;00m opt_einsum\u001b[38;5;241m.\u001b[39mis_available():\n",
      "\u001b[0;31mOutOfMemoryError\u001b[0m: CUDA out of memory. Tried to allocate 1160.81 GiB. GPU 0 has a total capacity of 15.73 GiB of which 13.95 GiB is free. Process 1969018 has 1.78 GiB memory in use. Of the allocated memory 1.55 GiB is allocated by PyTorch, and 37.74 MiB is reserved by PyTorch but unallocated. If reserved but unallocated memory is large try setting PYTORCH_CUDA_ALLOC_CONF=expandable_segments:True to avoid fragmentation.  See documentation for Memory Management  (https://pytorch.org/docs/stable/notes/cuda.html#environment-variables)"
     ]
    }
   ],
   "source": [
    "from einops import rearrange, einsum\n",
    "input_features = rearrange(input_features, 'b s f -> (b s) f')\n",
    "attribution = einsum(input_features, virtual_weights, \"b f1, f1 f2 -> b f1 f2\")"
   ]
  },
  {
   "cell_type": "code",
   "execution_count": 31,
   "metadata": {},
   "outputs": [
    {
     "ename": "RuntimeError",
     "evalue": "1D tensors expected, but got 2D and 2D tensors",
     "output_type": "error",
     "traceback": [
      "\u001b[0;31m---------------------------------------------------------------------------\u001b[0m",
      "\u001b[0;31mRuntimeError\u001b[0m                              Traceback (most recent call last)",
      "Cell \u001b[0;32mIn[31], line 1\u001b[0m\n\u001b[0;32m----> 1\u001b[0m attribution \u001b[38;5;241m=\u001b[39m \u001b[43mtorch\u001b[49m\u001b[38;5;241;43m.\u001b[39;49m\u001b[43mdot\u001b[49m\u001b[43m(\u001b[49m\u001b[43minput_features\u001b[49m\u001b[43m,\u001b[49m\u001b[43m \u001b[49m\u001b[43mvirtual_weights\u001b[49m\u001b[43m)\u001b[49m\n\u001b[1;32m      2\u001b[0m \u001b[38;5;66;03m# RuntimeError: self must be a matrix\u001b[39;00m\n\u001b[1;32m      3\u001b[0m \u001b[38;5;66;03m# attribution = input_features * virtual_weights\u001b[39;00m\n",
      "\u001b[0;31mRuntimeError\u001b[0m: 1D tensors expected, but got 2D and 2D tensors"
     ]
    }
   ],
   "source": [
    "attribution = torch.dot(input_features, virtual_weights)\n",
    "# RuntimeError: self must be a matrix\n",
    "# attribution = input_features * virtual_weights"
   ]
  },
  {
   "cell_type": "code",
   "execution_count": 32,
   "metadata": {},
   "outputs": [
    {
     "data": {
      "text/plain": [
       "(torch.Size([8256, 6144]), torch.Size([6144, 6143]))"
      ]
     },
     "execution_count": 32,
     "metadata": {},
     "output_type": "execute_result"
    }
   ],
   "source": [
    "input_features.shape, virtual_weights.shape\n",
    "attribution = torch.einsum('bi,ij->bij', input_features, virtual_weights)\n"
   ]
  },
  {
   "cell_type": "code",
   "execution_count": 5,
   "metadata": {},
   "outputs": [],
   "source": [
    "attribution = rearrange(attribution, 'b s f -> (b s) f')"
   ]
  },
  {
   "cell_type": "code",
   "execution_count": 15,
   "metadata": {},
   "outputs": [
    {
     "data": {
      "text/plain": [
       "torch.Size([64, 129, 6143])"
      ]
     },
     "execution_count": 15,
     "metadata": {},
     "output_type": "execute_result"
    }
   ],
   "source": [
    "attribution.shape"
   ]
  },
  {
   "cell_type": "code",
   "execution_count": 6,
   "metadata": {},
   "outputs": [],
   "source": [
    "output_indices = rearrange(output_indices, 'b s f -> (b s) f')"
   ]
  },
  {
   "cell_type": "code",
   "execution_count": 13,
   "metadata": {},
   "outputs": [
    {
     "data": {
      "text/plain": [
       "torch.Size([64, 30])"
      ]
     },
     "execution_count": 13,
     "metadata": {},
     "output_type": "execute_result"
    }
   ],
   "source": [
    "output_indices[:, 0].shape"
   ]
  },
  {
   "cell_type": "code",
   "execution_count": 8,
   "metadata": {},
   "outputs": [],
   "source": [
    "with torch.no_grad():\n",
    "    attribution = input_features @ virtual_weights"
   ]
  },
  {
   "cell_type": "code",
   "execution_count": 9,
   "metadata": {},
   "outputs": [
    {
     "data": {
      "text/plain": [
       "(torch.Size([64, 129, 6144]), torch.Size([6144, 6143]))"
      ]
     },
     "execution_count": 9,
     "metadata": {},
     "output_type": "execute_result"
    }
   ],
   "source": [
    "input_features.shape, virtual_weights.shape"
   ]
  },
  {
   "cell_type": "code",
   "execution_count": 10,
   "metadata": {},
   "outputs": [],
   "source": [
    "# We want to calculate attribution = act*gradient\n",
    "\n",
    "# I believe this is equivalent to the weights of the activations (ignore biases)\n",
    "# It'd be good to actually verify this is the case\n",
    "\n",
    "\n",
    "\n",
    "with torch.no_grad():\n",
    "    tr_dec = transcoder.decoder.weight\n",
    "    #TODO: we removed the last weight to help w/ knowing .T and shape. \n",
    "    final_enc = sae_final.encoder.weight[:-1]\n",
    "    virtual_weights = tr_dec.T @ final_enc.T\n",
    "\n",
    "    act_res_mid = act_res_mid.to(device)\n",
    "    input_features, input_acts, input_indices = transcoder.encode(act_res_mid, return_topk=True)\n",
    "    mlp_out_hat = transcoder.decoder(input_features)\n",
    "\n",
    "    output_features, output_acts, output_indices = sae_final.encode(mlp_out_hat + act_res_mid, return_topk=True)\n",
    "\n",
    "    # For efficient gradient calculation, we can get the nonzero_indices of both input & output feature\n",
    "\n",
    "    # W_input = transcoder.decoder.weight[input_indices]    "
   ]
  },
  {
   "cell_type": "code",
   "execution_count": 12,
   "metadata": {},
   "outputs": [
    {
     "data": {
      "text/plain": [
       "(torch.Size([768, 6144]), torch.Size([64, 129, 30]))"
      ]
     },
     "execution_count": 12,
     "metadata": {},
     "output_type": "execute_result"
    }
   ],
   "source": [
    "transcoder.decoder.weight.shape, input_indices.shape"
   ]
  },
  {
   "cell_type": "code",
   "execution_count": null,
   "metadata": {},
   "outputs": [],
   "source": [
    "# def encode(self, x: torch.Tensor, return_topk: bool = False):\n",
    "#     post_relu_feat_acts_BF = nn.functional.relu(self.encoder(x - self.b_dec))\n",
    "#     post_topk = post_relu_feat_acts_BF.topk(self.k, sorted=False, dim=-1)\n",
    "\n",
    "#     # We can't split immediately due to nnsight\n",
    "#     tops_acts_BK = post_topk.values\n",
    "#     top_indices_BK = post_topk.indices\n",
    "\n",
    "#     buffer_BF = torch.zeros_like(post_relu_feat_acts_BF)\n",
    "#     encoded_acts_BF = buffer_BF.scatter_(dim=-1, index=top_indices_BK, src=tops_acts_BK)\n",
    "\n",
    "#     if return_topk:\n",
    "#         return encoded_acts_BF, tops_acts_BK, top_indices_BK\n",
    "#     else:\n",
    "#         return encoded_acts_BF\n",
    "\n",
    "# def decode(self, x: torch.Tensor) -> torch.Tensor:\n",
    "#     return self.decoder(x) + self.b_dec"
   ]
  }
 ],
 "metadata": {
  "kernelspec": {
   "display_name": "circuits",
   "language": "python",
   "name": "python3"
  },
  "language_info": {
   "codemirror_mode": {
    "name": "ipython",
    "version": 3
   },
   "file_extension": ".py",
   "mimetype": "text/x-python",
   "name": "python",
   "nbconvert_exporter": "python",
   "pygments_lexer": "ipython3",
   "version": "3.11.0rc1"
  }
 },
 "nbformat": 4,
 "nbformat_minor": 2
}
